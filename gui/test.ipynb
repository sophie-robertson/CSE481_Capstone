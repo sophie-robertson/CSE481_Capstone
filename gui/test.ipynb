{
 "cells": [
  {
   "cell_type": "code",
   "execution_count": 1,
   "metadata": {},
   "outputs": [],
   "source": [
    "\n",
    "# Get relative path of gui file\n",
    "import os\n",
    "import scipy\n",
    "import pandas as pd\n",
    "import numpy as np\n",
    "import metrics\n",
    "muscle_list = ['All Muscles', 'DELT1', 'DELT2', 'DELT3', 'SUPRA', 'INFRA', 'SUBSCAP', 'TMIN', 'TMAJ',\n",
    "               'PMAJ1', 'PMAJ2', 'PMAJ3', 'LAT1', 'LAT2', 'LAT3', 'CORB', 'TRIlong', 'TRIllat', 'TRIlmat', \n",
    "               'ANC', 'SUP', 'BIClong', 'BICshort', 'BRA', 'BRD', 'ECRL', 'ECRB', 'ECU', 'FCR', 'FCU', \n",
    "               'PL', 'PT', 'PQ', 'FDSL', 'FDSR', 'FDSM', 'FDSI', 'FDPL', 'FDPR', 'FDPM', 'FDPI',\n",
    "               'EDCL','EDCR', 'EDCM', 'EDCI', 'EDM', 'EIP', 'EPL', 'EPB', 'FPL', 'APL']\n",
    "\n",
    "muscle_dict = {muscle: index - 1 for index, muscle in enumerate(muscle_list)}\n",
    "\n",
    "\n",
    "current_directory = os.getcwd()\n",
    "parent_directory = os.path.dirname(current_directory)\n",
    "\n",
    "# \"Experimental Data\" TODO: Which trial to use? Some kind of average? How to account for differing hold signals?\n",
    "exp_file_path = os.path.join(parent_directory, \"model\", \"monkey_data.mat\")\n",
    "mat_data = scipy.io.loadmat(exp_file_path)\n",
    "mvm_data_expt = mat_data['targ'][0][0]\n",
    "mvm_data_expt = pd.DataFrame(mvm_data_expt, index = muscle_list[1:])\n",
    "# Sophie change: also saving input data because we need it for the delay\n",
    "mvm_met_exp = mat_data['targ']\n",
    "\n",
    "# Load the our output data. TODO: Right now it is one file, we need to change to adjust for object list AND increase in lesions\n",
    "output_file_path = os.path.join(parent_directory, \"model\", \"hardcore_only_loss_model_outputs.pickle\")\n",
    "mvm_data_whole = pd.read_pickle(output_file_path)\n",
    "mvm_met_test = np.load(output_file_path, allow_pickle=True)\n",
    "\n",
    "inp_data = mat_data['inp']\n",
    "for ind,trash in enumerate(inp_data[0]):\n",
    "    inp_data[0][ind] = inp_data[0][ind][20]\n",
    "hold_data = inp_data"
   ]
  },
  {
   "cell_type": "code",
   "execution_count": 2,
   "metadata": {},
   "outputs": [
    {
     "name": "stdout",
     "output_type": "stream",
     "text": [
      "torch.Size([502, 341, 50])\n"
     ]
    }
   ],
   "source": [
    "print(mvm_data_whole.shape)"
   ]
  },
  {
   "cell_type": "code",
   "execution_count": 3,
   "metadata": {},
   "outputs": [],
   "source": [
    "ground_trem_full, model_trem_full, p_val_trem = metrics.tremor_factor(mvm_met_test, mvm_met_exp[0])"
   ]
  },
  {
   "cell_type": "code",
   "execution_count": 5,
   "metadata": {},
   "outputs": [
    {
     "name": "stdout",
     "output_type": "stream",
     "text": [
      "[0.01661314 0.01757026 0.01765455 0.01987611 0.01494478 0.01971315\n",
      " 0.01882995 0.01610059 0.01314156 0.01240227 0.0111193  0.01594557\n",
      " 0.01597285 0.01547896 0.01334407 0.01718581 0.01773893 0.01773893\n",
      " 0.01778987 0.00704069 0.0122193  0.00979119 0.01877472 0.01921736\n",
      " 0.01586819 0.01010535 0.01349237 0.01307527 0.01469279 0.01320411\n",
      " 0.00912775 0.00694556 0.01539764 0.01494829 0.00983638 0.01658515\n",
      " 0.01201356 0.01186579 0.01186949 0.0137005  0.01150436 0.01021417\n",
      " 0.00930122 0.01301292 0.01179438 0.01388386 0.01388578 0.0207117\n",
      " 0.01173828 0.01203793]\n"
     ]
    }
   ],
   "source": [
    "print(ground_trem_full)"
   ]
  },
  {
   "cell_type": "code",
   "execution_count": 6,
   "metadata": {},
   "outputs": [
    {
     "name": "stdout",
     "output_type": "stream",
     "text": [
      "[0.06532388 0.25991498 0.18105342 0.15888528 0.26350421 0.23946795\n",
      " 0.00680646 0.28172019 0.00623768 0.00430786 0.28729376 0.00795678\n",
      " 0.0082591  0.30480866 0.25163984 0.20709814 0.00569934 0.00649543\n",
      " 0.07883529 0.01154187 0.01400826 0.17602119 0.00769112 0.02440208\n",
      " 0.15891923 0.02936848 0.15891162 0.01295459 0.01199266 0.01780578\n",
      " 0.02557859 0.03933553 0.01052085 0.04637044 0.04618179 0.02695797\n",
      " 0.01658396 0.0214636  0.01435436 0.04717506 0.0146783  0.01921715\n",
      " 0.0840841  0.09105136 0.09047413 0.04850809 0.03918256 0.04169291\n",
      " 0.01652606 0.        ]\n"
     ]
    }
   ],
   "source": [
    "print(model_trem_full)"
   ]
  },
  {
   "cell_type": "code",
   "execution_count": null,
   "metadata": {},
   "outputs": [],
   "source": []
  }
 ],
 "metadata": {
  "kernelspec": {
   "display_name": "cap",
   "language": "python",
   "name": "python3"
  },
  "language_info": {
   "codemirror_mode": {
    "name": "ipython",
    "version": 3
   },
   "file_extension": ".py",
   "mimetype": "text/x-python",
   "name": "python",
   "nbconvert_exporter": "python",
   "pygments_lexer": "ipython3",
   "version": "3.12.3"
  }
 },
 "nbformat": 4,
 "nbformat_minor": 2
}
