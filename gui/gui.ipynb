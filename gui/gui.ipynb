{
 "cells": [
  {
   "cell_type": "code",
   "execution_count": null,
   "metadata": {},
   "outputs": [],
   "source": [
    "# Imports\n",
    "import PySimpleGUI as sg\n",
    "import pandas as pd\n",
    "import matplotlib.pyplot as plt\n",
    "from matplotlib.backends.backend_tkagg import FigureCanvasTkAgg\n",
    "import os\n",
    "import scipy\n",
    "import numpy as np"
   ]
  },
  {
   "cell_type": "code",
   "execution_count": 11,
   "metadata": {},
   "outputs": [],
   "source": [
    "\n",
    "# Sample DataFrame\n",
    "df = pd.DataFrame(data=[[i]*50 for i in range(298)])\n",
    "\n",
    "# Get monkey data using relative path of gui file\n",
    "current_directory = os.getcwd()\n",
    "parent_directory = os.path.dirname(current_directory)\n",
    "file_path = os.path.join(parent_directory, \"model\", \"monkey_data.mat\")\n",
    "\n",
    "# Load the .mat file\n",
    "mat_data = scipy.io.loadmat(file_path)\n",
    "mvm_data = mat_data['targ'][0][0]\n",
    "time_axis = np.arange(2.2, 2.98, .01)\n",
    "\n",
    "# Function to plot data\n",
    "def plot_data(data):\n",
    "    fig, ax = plt.subplots(figsize=(8, 6))\n",
    "    ax.plot(data)\n",
    "    ax.set_xlabel('Time')\n",
    "    ax.set_ylabel('Value')\n",
    "    ax.set_title('Plot')\n",
    "    return fig\n",
    "\n",
    "# Define the layout of the GUI\n",
    "left_column = [\n",
    "    [sg.Button(\"All 50 Muscles\")],\n",
    "    [sg.Button(\"Single Muscle\")], \n",
    "]\n",
    "\n",
    "right_column = [\n",
    "    [sg.Canvas(size=(640, 480), key='-CANVAS-')],\n",
    "    [sg.Slider(range=(0, 50), orientation='h', size=(100, 20), default_value=0, key='-SLIDER-', enable_events = True)],\n",
    "]\n",
    "\n",
    "layout = [ [[sg.Text(\"Neuro Engineering Capstone\", font='Any 20 bold')]],\n",
    "    [sg.Column(left_column), sg.VSeperator(), sg.Column(right_column)], \n",
    "]\n",
    "\n",
    "# Create the GUI window\n",
    "window = sg.Window('DataFrame Plotter', layout)\n",
    "\n",
    "# Initialize canvas and fig\n",
    "canvas_elem = window['-CANVAS-']\n",
    "fig = None\n",
    "canvas = None\n",
    "\n",
    "# Event loop\n",
    "while True:\n",
    "    event, values = window.read()\n",
    "\n",
    "    if event == sg.WINDOW_CLOSED or event == 'Exit':\n",
    "        if fig is not None:\n",
    "            plt.close(fig)  # Close the figure to prevent it from being printed\n",
    "        break\n",
    "        break\n",
    "    elif event == 'All 50 Muscles':\n",
    "        fig = plot_data(mvm_data.T)  # Plot all rows\n",
    "    elif event == 'Single Muscle':\n",
    "        fig = plot_data(mvm_data[int(values['-SLIDER-'])].T)  # Plot only the first row\n",
    "    if event == '-SLIDER-':\n",
    "        fig = plot_data(mvm_data[int(values['-SLIDER-'])].T)  # Plot only the first row\n",
    "    # Update the plot in the GUI\n",
    "    if fig is not None:\n",
    "        if canvas:\n",
    "            canvas.get_tk_widget().pack_forget()  # Remove the previous canvas\n",
    "        canvas = FigureCanvasTkAgg(fig, canvas_elem.TKCanvas)\n",
    "        canvas.draw()\n",
    "        canvas.get_tk_widget().pack(side='top', fill='both', expand=1)\n",
    "\n",
    "window.close()\n"
   ]
  },
  {
   "cell_type": "code",
   "execution_count": null,
   "metadata": {},
   "outputs": [],
   "source": []
  },
  {
   "cell_type": "code",
   "execution_count": null,
   "metadata": {},
   "outputs": [],
   "source": []
  },
  {
   "cell_type": "code",
   "execution_count": null,
   "metadata": {},
   "outputs": [],
   "source": []
  },
  {
   "cell_type": "code",
   "execution_count": null,
   "metadata": {},
   "outputs": [],
   "source": []
  },
  {
   "cell_type": "code",
   "execution_count": null,
   "metadata": {},
   "outputs": [],
   "source": []
  },
  {
   "cell_type": "code",
   "execution_count": null,
   "metadata": {},
   "outputs": [],
   "source": []
  },
  {
   "cell_type": "code",
   "execution_count": null,
   "metadata": {},
   "outputs": [],
   "source": []
  }
 ],
 "metadata": {
  "kernelspec": {
   "display_name": "necapstone",
   "language": "python",
   "name": "python3"
  },
  "language_info": {
   "codemirror_mode": {
    "name": "ipython",
    "version": 3
   },
   "file_extension": ".py",
   "mimetype": "text/x-python",
   "name": "python",
   "nbconvert_exporter": "python",
   "pygments_lexer": "ipython3",
   "version": "3.12.3"
  }
 },
 "nbformat": 4,
 "nbformat_minor": 2
}
