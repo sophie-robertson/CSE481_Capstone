{
 "cells": [
  {
   "cell_type": "code",
   "execution_count": 32,
   "metadata": {},
   "outputs": [],
   "source": [
    "from scipy.io import loadmat\n",
    "import torch\n",
    "import mrnn"
   ]
  },
  {
   "cell_type": "code",
   "execution_count": 33,
   "metadata": {},
   "outputs": [],
   "source": [
    "monkey_data = loadmat('monkey_data.mat') \n",
    "visual_data = monkey_data['inp'][0]\n",
    "muscle_data = monkey_data['targ'][0]\n"
   ]
  },
  {
   "cell_type": "code",
   "execution_count": 43,
   "metadata": {},
   "outputs": [
    {
     "name": "stdout",
     "output_type": "stream",
     "text": [
      "(502,)\n",
      "(21, 298)\n",
      "(502,)\n"
     ]
    }
   ],
   "source": [
    "print(visual_data.shape)\n",
    "print(visual_data[0].shape)\n",
    "print(muscle_data.shape)"
   ]
  },
  {
   "cell_type": "code",
   "execution_count": 44,
   "metadata": {},
   "outputs": [
    {
     "name": "stdout",
     "output_type": "stream",
     "text": [
      "21\n"
     ]
    }
   ],
   "source": [
    "batch_size = visual_data.shape[0]\n",
    "trial_len = visual_data[0].shape[1]\n",
    "in_dim = visual_data[0].shape[0]\n",
    "out_dim = muscle_data[0].shape[0]\n",
    "\n",
    "hid_dim = 100\n",
    "num_layers = 3"
   ]
  },
  {
   "cell_type": "code",
   "execution_count": 41,
   "metadata": {},
   "outputs": [
    {
     "data": {
      "text/plain": [
       "torch.Size([502, 298, 50])"
      ]
     },
     "execution_count": 41,
     "metadata": {},
     "output_type": "execute_result"
    }
   ],
   "source": [
    "preds.shape"
   ]
  },
  {
   "cell_type": "code",
   "execution_count": null,
   "metadata": {},
   "outputs": [],
   "source": [
    "from sklearn.model_selection import train_test_split\n",
    "from torch import nn\n",
    "\n",
    "from mrnn import MilliesRNN\n",
    "train_idx, test_idx = train_test_split(\n",
    "    range(batch_size), \n",
    "    test_size=0.2, \n",
    "    shuffle=True\n",
    ")\n",
    "# train/test image features\n",
    "train_x = visual_data[train_idx]\n",
    "test_x = visual_data[test_idx]\n",
    "#train/test muscle features\n",
    "\n",
    "train_y = muscle_data[train_idx]\n",
    "test_y = muscle_data[test_idx]\n",
    "\n",
    "learning_rate = 0.1\n",
    "\n",
    "\n",
    "model = MilliesRNN(in_dim, hid_dim, num_layers)\n",
    "criterion = nn.MSELoss()\n",
    "optimizer = torch.optim.Adam(model.parameters(), lr=learning_rate)\n",
    "\n",
    "\n",
    "num_epochs = 2\n",
    "print_interval = 3000\n",
    "\n",
    "for epoch in range(num_epochs):\n",
    "    for i, input in enumerate(train_x):\n",
    "\n",
    "        hidden_state = model.init_hidden()\n",
    "        \n",
    "\n",
    "        optimizer.zero_grad()\n",
    "        loss.backward()\n",
    "        nn.utils.clip_grad_norm_(model.parameters(), 1)\n",
    "        optimizer.step()\n",
    "        \n",
    "        if (i + 1) % print_interval == 0:\n",
    "            print(\n",
    "                f\"Epoch [{epoch + 1}/{num_epochs}], \"\n",
    "                f\"Step [{i + 1}/{len(train_dataset)}], \"\n",
    "                f\"Loss: {loss.item():.4f}\"\n",
    "            )\n",
    "\n"
   ]
  },
  {
   "cell_type": "code",
   "execution_count": null,
   "metadata": {},
   "outputs": [],
   "source": [
    "preds = torch.empty(batch_size, trial_len, out_dim)\n",
    "\n",
    "# do we need a new hidden layer?? or can I re-use the old one??\n",
    "# hidden_state = torch.randn(2*num_layers, hid_dim)\n",
    "\n",
    "for tidx in range(trial_len):\n",
    "    nn_input = visual_data[]"
   ]
  }
 ],
 "metadata": {
  "kernelspec": {
   "display_name": "newallensdk",
   "language": "python",
   "name": "python3"
  },
  "language_info": {
   "codemirror_mode": {
    "name": "ipython",
    "version": 3
   },
   "file_extension": ".py",
   "mimetype": "text/x-python",
   "name": "python",
   "nbconvert_exporter": "python",
   "pygments_lexer": "ipython3",
   "version": "3.9.18"
  }
 },
 "nbformat": 4,
 "nbformat_minor": 2
}
