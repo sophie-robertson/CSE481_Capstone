{
 "cells": [
  {
   "cell_type": "code",
   "execution_count": 1,
   "metadata": {},
   "outputs": [],
   "source": [
    "from scipy.io import loadmat\n",
    "import numpy as np\n",
    "import torch \n"
   ]
  },
  {
   "cell_type": "code",
   "execution_count": 3,
   "metadata": {},
   "outputs": [],
   "source": [
    "monkey_data = loadmat('monkey_data.mat') \n",
    "visual_data = monkey_data['inp'][0]\n",
    "muscle_data = monkey_data['targ'][0]"
   ]
  },
  {
   "cell_type": "code",
   "execution_count": 4,
   "metadata": {},
   "outputs": [
    {
     "name": "stdout",
     "output_type": "stream",
     "text": [
      "341.0\n"
     ]
    }
   ],
   "source": [
    "test = np.zeros((502, 2))\n",
    "for i, data in enumerate(visual_data):\n",
    "    test[i] = data.shape\n",
    "\n",
    "print(test[:,1].max())"
   ]
  },
  {
   "cell_type": "code",
   "execution_count": 5,
   "metadata": {},
   "outputs": [],
   "source": [
    "batch_size = visual_data.shape[0] # N, 502\n",
    "trial_len = int(test[:,1].max()) # visual_data[0].shape[1] # T, 298 \n",
    "in_dim = visual_data[0].shape[0] # L, 21\n",
    "out_dim = muscle_data[0].shape[0] # O, 50\n",
    "\n",
    "hid_dim = 100\n",
    "num_layers = 3"
   ]
  },
  {
   "cell_type": "code",
   "execution_count": 6,
   "metadata": {},
   "outputs": [
    {
     "name": "stdout",
     "output_type": "stream",
     "text": [
      "(502, 341, 21)\n"
     ]
    }
   ],
   "source": [
    "new_visual_data = np.zeros((batch_size, trial_len, in_dim))\n",
    "\n",
    "for i, data in enumerate(visual_data):\n",
    "    new_visual_data[i, 0:visual_data[i].shape[1], :] = visual_data[i].transpose()\n",
    "print(new_visual_data.shape)"
   ]
  },
  {
   "cell_type": "code",
   "execution_count": 7,
   "metadata": {},
   "outputs": [],
   "source": [
    "import math\n",
    "from sklearn.model_selection import train_test_split\n",
    "from sklearn.utils import gen_batches\n",
    "# np.random.seed()\n",
    "\n",
    " # shuffling was somehow change \n",
    "train_idx, test_idx = train_test_split(\n",
    "     range(batch_size), \n",
    "     test_size=0.2, \n",
    "     shuffle=True )\n",
    "\n",
    "train_input = np.zeros((int(batch_size * .8), trial_len, in_dim))\n",
    "train_output = np.zeros((int(batch_size * .8), trial_len, out_dim))\n",
    "test_input = np.zeros((int(np.ceil(batch_size * .2)), trial_len, in_dim))\n",
    "test_output = np.zeros((int(np.ceil(batch_size * .2)), trial_len, out_dim))\n",
    "train_ind = 0\n",
    "test_ind = 0\n",
    "for i, data in enumerate(visual_data):\n",
    "     if i in train_idx:\n",
    "       # train_input[train_ind, 0:visual_data[i].shape[1], :] = visual_data[i].transpose()\n",
    "       train_input[train_ind, -visual_data[i].shape[1]:, :] = visual_data[i].transpose()\n",
    "       train_output[train_ind, -visual_data[i].shape[1]:, :] = muscle_data[i].transpose()\n",
    "       train_ind += 1\n",
    "     else:\n",
    "        test_input[test_ind, -visual_data[i].shape[1]:, :] = visual_data[i].transpose()\n",
    "        test_output[test_ind, -visual_data[i].shape[1]:, :] = muscle_data[i].transpose()\n",
    "        test_ind += 1\n",
    "\n",
    "# for use in weighted loss\n",
    "muscle_length_vec = torch.tensor([9.8, 10.8, 13.7, 6.8, 7.6, 8.7, 7.4, 16.2, 14.4, 13.8, 13.8, 25.4, 23.2, 27.9, 9.3, 13.4, 11.4, 11.4, 2.7, 3.3, 11.6, 13.2, 8.6, 17.3, 8.1, 5.9, 6.2, 6.3, 5.1, 6.4, 4.9, 2.8, 5.2, 7.4, 7.5, 8.4, 7.5, 8.0, 8.4, 7.5, 6.5, 6.3, 7.2, 7.0, 6.8, 5.9, 5.4, 6.8, 5.5, 7.1])\n",
    "muscle_weight_vec = (1/muscle_length_vec) * (2.5*torch.min(muscle_length_vec))\n",
    "\n",
    "\n",
    "\n"
   ]
  },
  {
   "cell_type": "markdown",
   "metadata": {},
   "source": [
    "- ReTanh activation function --> yes\n",
    "- rate regularization: 1e-1 --> yes\n",
    "- weight regularization: 1e-5 --> yes\n",
    "- intermodule sparsity: 0.1 --> yes\n",
    "- Hessian free optimization --> yes\n",
    "- birdirectional --> no"
   ]
  },
  {
   "cell_type": "code",
   "execution_count": 8,
   "metadata": {},
   "outputs": [],
   "source": [
    "def hardcore_loss(output, target, model_params):\n",
    "    firing_reg = 1e-1\n",
    "    weight_reg = 1e-5\n",
    "    weight_sum = torch.zeros((1))\n",
    "    for name, param in model_params: \n",
    "        if \"weight\" in name:\n",
    "            weight_sum += torch.sum(param **  2)\n",
    "\n",
    "    loss = torch.sum((output - target)**2) + firing_reg * torch.sum(output ** 2) + weight_reg * weight_sum\n",
    "    return loss"
   ]
  },
  {
   "cell_type": "code",
   "execution_count": 9,
   "metadata": {},
   "outputs": [],
   "source": [
    "def hardcore_loss_weighted(output, target, model_params):\n",
    "    firing_reg = 1e-1\n",
    "    weight_reg = 1e-5\n",
    "    weight_sum = torch.zeros((1))\n",
    "    for name, param in model_params: \n",
    "        if \"weight\" in name:\n",
    "            weight_sum += torch.sum(param **  2)\n",
    "    \n",
    "    # not entirely sure if this line is right\n",
    "    \n",
    "    target_diff_sum = torch.sum((muscle_weight_vec*(output - target))**2)\n",
    "\n",
    "    loss = target_diff_sum + firing_reg * torch.sum(output ** 2) + weight_reg * weight_sum\n",
    "    return loss"
   ]
  },
  {
   "cell_type": "code",
   "execution_count": 10,
   "metadata": {},
   "outputs": [
    {
     "name": "stdout",
     "output_type": "stream",
     "text": [
      "tensor([32978.9102], grad_fn=<AddBackward0>)\n",
      "tensor([27090.4844], grad_fn=<AddBackward0>)\n"
     ]
    }
   ],
   "source": [
    "from torch import nn\n",
    "import torch.nn.utils.prune as prune\n",
    "import torch.nn.functional as F\n",
    "\n",
    "from mrnn import MilliesRNN\n",
    "from hessianfree import HessianFree\n",
    "\n",
    "learning_rate = 0.001\n",
    "hessian = False\n",
    "hardcore = True\n",
    "intermodule_connections_removed = .9\n",
    "\n",
    "\n",
    "model = MilliesRNN(in_dim, hid_dim, out_dim, True)\n",
    "module1 = model.h2o\n",
    "prune.random_unstructured(module1, name=\"weight\", amount=intermodule_connections_removed)\n",
    "module2 = model.thal\n",
    "prune.random_unstructured(module2, name=\"weight\", amount=intermodule_connections_removed)\n",
    "model.train()\n",
    "batches = []\n",
    "shuffed = np.arange(0,401)\n",
    "np.random.shuffle(shuffed)\n",
    "for i in range(5):\n",
    "    idx = shuffed[int((train_input.shape[0]/5)*i):int((train_input.shape[0]/5)*(i+1))]\n",
    "    batches.append(idx)\n",
    "outputs = model(torch.from_numpy(train_input[batches[0]]).to(torch.float32))   \n",
    "loss = hardcore_loss(outputs, torch.from_numpy(train_output[batches[0]]).to(torch.float32), model.named_parameters())\n",
    "print(loss)\n",
    "\n",
    "loss_weighted = hardcore_loss_weighted(outputs, torch.from_numpy(train_output[batches[0]]).to(torch.float32), model.named_parameters())\n",
    "print(loss_weighted)\n"
   ]
  },
  {
   "cell_type": "code",
   "execution_count": 11,
   "metadata": {},
   "outputs": [
    {
     "name": "stdout",
     "output_type": "stream",
     "text": [
      "Epoch [1/10], Step [1/401], Loss: 0.0237\n",
      "Epoch [1/10], Step [2/401], Loss: 0.0225\n",
      "Epoch [1/10], Step [3/401], Loss: 0.0207\n",
      "Epoch [1/10], Step [4/401], Loss: 0.0199\n",
      "Epoch [1/10], Step [5/401], Loss: 0.0195\n",
      "Epoch [2/10], Step [1/401], Loss: 0.0195\n",
      "Epoch [2/10], Step [2/401], Loss: 0.0185\n",
      "Epoch [2/10], Step [3/401], Loss: 0.0180\n",
      "Epoch [2/10], Step [4/401], Loss: 0.0169\n",
      "Epoch [2/10], Step [5/401], Loss: 0.0180\n",
      "Epoch [3/10], Step [1/401], Loss: 0.0170\n",
      "Epoch [3/10], Step [2/401], Loss: 0.0178\n",
      "Epoch [3/10], Step [3/401], Loss: 0.0164\n",
      "Epoch [3/10], Step [4/401], Loss: 0.0170\n",
      "Epoch [3/10], Step [5/401], Loss: 0.0160\n",
      "Epoch [4/10], Step [1/401], Loss: 0.0164\n",
      "Epoch [4/10], Step [2/401], Loss: 0.0164\n",
      "Epoch [4/10], Step [3/401], Loss: 0.0159\n",
      "Epoch [4/10], Step [4/401], Loss: 0.0152\n",
      "Epoch [4/10], Step [5/401], Loss: 0.0158\n",
      "Epoch [5/10], Step [1/401], Loss: 0.0160\n",
      "Epoch [5/10], Step [2/401], Loss: 0.0162\n",
      "Epoch [5/10], Step [3/401], Loss: 0.0157\n",
      "Epoch [5/10], Step [4/401], Loss: 0.0149\n",
      "Epoch [5/10], Step [5/401], Loss: 0.0146\n",
      "Epoch [6/10], Step [1/401], Loss: 0.0147\n",
      "Epoch [6/10], Step [2/401], Loss: 0.0148\n",
      "Epoch [6/10], Step [3/401], Loss: 0.0152\n",
      "Epoch [6/10], Step [4/401], Loss: 0.0145\n",
      "Epoch [6/10], Step [5/401], Loss: 0.0146\n",
      "Epoch [7/10], Step [1/401], Loss: 0.0141\n",
      "Epoch [7/10], Step [2/401], Loss: 0.0133\n",
      "Epoch [7/10], Step [3/401], Loss: 0.0147\n",
      "Epoch [7/10], Step [4/401], Loss: 0.0126\n",
      "Epoch [7/10], Step [5/401], Loss: 0.0129\n",
      "Epoch [8/10], Step [1/401], Loss: 0.0121\n",
      "Epoch [8/10], Step [2/401], Loss: 0.0121\n",
      "Epoch [8/10], Step [3/401], Loss: 0.0113\n",
      "Epoch [8/10], Step [4/401], Loss: 0.0116\n",
      "Epoch [8/10], Step [5/401], Loss: 0.0128\n",
      "Epoch [9/10], Step [1/401], Loss: 0.0118\n",
      "Epoch [9/10], Step [2/401], Loss: 0.0113\n",
      "Epoch [9/10], Step [3/401], Loss: 0.0114\n",
      "Epoch [9/10], Step [4/401], Loss: 0.0118\n",
      "Epoch [9/10], Step [5/401], Loss: 0.0113\n",
      "Epoch [10/10], Step [1/401], Loss: 0.0112\n",
      "Epoch [10/10], Step [2/401], Loss: 0.0110\n",
      "Epoch [10/10], Step [3/401], Loss: 0.0107\n",
      "Epoch [10/10], Step [4/401], Loss: 0.0100\n",
      "Epoch [10/10], Step [5/401], Loss: 0.0146\n"
     ]
    }
   ],
   "source": [
    "from torch import nn\n",
    "import torch.nn.utils.prune as prune\n",
    "import torch.nn.functional as F\n",
    "\n",
    "from mrnn import MilliesRNN\n",
    "from hessianfree import HessianFree\n",
    "\n",
    "learning_rate = 0.001\n",
    "hessian = False\n",
    "hardcore = False\n",
    "intermodule_connections_removed = .9\n",
    "\n",
    "\n",
    "model = MilliesRNN(in_dim, hid_dim, out_dim, True)\n",
    "module1 = model.h2o\n",
    "prune.random_unstructured(module1, name=\"weight\", amount=intermodule_connections_removed)\n",
    "module2 = model.thal\n",
    "prune.random_unstructured(module2, name=\"weight\", amount=intermodule_connections_removed)\n",
    "\n",
    "if hardcore:\n",
    "    criterion1 = hardcore_loss\n",
    "    criterion2 = hardcore_loss_weighted\n",
    "else:\n",
    "    criterion1 = nn.MSELoss() \n",
    "\n",
    "if hessian:\n",
    "    optimizer = HessianFree(model.parameters(), use_gnm=True, verbose=True)\n",
    "else:\n",
    "    optimizer = torch.optim.Adam(model.parameters(), lr=learning_rate)\n",
    "\n",
    "num_epochs = 10\n",
    "print_interval = 100\n",
    "loss_error = []\n",
    "\n",
    "preds = np.zeros((int(batch_size * .8), trial_len, out_dim))\n",
    "\n",
    "model.train()\n",
    "for epoch in range(num_epochs):\n",
    "    batches = []\n",
    "    shuffed = np.arange(0,401)\n",
    "    np.random.shuffle(shuffed)\n",
    "    for i in range(5):\n",
    "        idx = shuffed[int((train_input.shape[0]/5)*i):int((train_input.shape[0]/5)*(i+1))]\n",
    "        \n",
    "        batches.append(idx)\n",
    "    \n",
    "    for j, batch in enumerate(batches):\n",
    "        \n",
    "        optimizer.zero_grad()\n",
    "\n",
    "        outputs = model(torch.from_numpy(train_input[batch]).to(torch.float32))   \n",
    "\n",
    "        if hardcore:\n",
    "            # if epoch < num_epochs/2:\n",
    "                loss = criterion1(outputs, torch.from_numpy(train_output[batch]).to(torch.float32), model.named_parameters())\n",
    "            # else:\n",
    "                # loss = criterion2(outputs, torch.from_numpy(train_output[batch]).to(torch.float32), model.named_parameters())\n",
    "        else:\n",
    "            loss = criterion1(outputs, torch.from_numpy(train_output[batch]).to(torch.float32))\n",
    "        \n",
    "            \n",
    "        # nn.utils.clip_grad_norm_(model.parameters(), 1)\n",
    "\n",
    "        def closure():\n",
    "            gen_output = model(torch.from_numpy(train_input[batch]).to(torch.float32))\n",
    "            loss = criterion1(gen_output, torch.from_numpy(train_output[batch]).to(torch.float32), model.named_parameters())\n",
    "            loss.backward(create_graph=True)\n",
    "            return loss, gen_output\n",
    "        \n",
    "        if hessian:\n",
    "            optimizer.step(closure, M_inv=None)\n",
    "        else: # gradient descent\n",
    "            loss.backward()\n",
    "            optimizer.step()\n",
    "\n",
    "        loss_error.append(loss.item())\n",
    "        # if i == 0 or (i + 1) % print_interval == 0:\n",
    "        print(\n",
    "            f\"Epoch [{epoch + 1}/{num_epochs}], \"\n",
    "            f\"Step [{j + 1}/{len(train_output)}], \"\n",
    "            f\"Loss: {loss.item():.4f}\"\n",
    "        )\n",
    "        \n",
    "\n"
   ]
  },
  {
   "cell_type": "code",
   "execution_count": 12,
   "metadata": {},
   "outputs": [
    {
     "data": {
      "text/plain": [
       "Text(0, 0.5, 'loss')"
      ]
     },
     "execution_count": 12,
     "metadata": {},
     "output_type": "execute_result"
    },
    {
     "data": {
      "image/png": "[encoded data removed]",
      "text/plain": [
       "<Figure size 640x480 with 1 Axes>"
      ]
     },
     "metadata": {},
     "output_type": "display_data"
    }
   ],
   "source": [
    "import matplotlib.pyplot as plt\n",
    "\n",
    "plt.plot(loss_error)\n",
    "plt.xlabel(\"steps\")\n",
    "plt.ylabel(\"loss\")"
   ]
  },
  {
   "cell_type": "code",
   "execution_count": 13,
   "metadata": {},
   "outputs": [
    {
     "ename": "TypeError",
     "evalue": "MSELoss.forward() takes 3 positional arguments but 4 were given",
     "output_type": "error",
     "traceback": [
      "\u001b[0;31m---------------------------------------------------------------------------\u001b[0m",
      "\u001b[0;31mTypeError\u001b[0m                                 Traceback (most recent call last)",
      "Cell \u001b[0;32mIn[13], line 12\u001b[0m\n\u001b[1;32m     10\u001b[0m \u001b[38;5;28;01mwith\u001b[39;00m torch\u001b[38;5;241m.\u001b[39mno_grad():\n\u001b[1;32m     11\u001b[0m     out \u001b[38;5;241m=\u001b[39m model(torch\u001b[38;5;241m.\u001b[39mfrom_numpy(test_input)\u001b[38;5;241m.\u001b[39mto(torch\u001b[38;5;241m.\u001b[39mfloat32))\n\u001b[0;32m---> 12\u001b[0m     loss1 \u001b[38;5;241m=\u001b[39m \u001b[43mcriterion1\u001b[49m\u001b[43m(\u001b[49m\u001b[43mout\u001b[49m\u001b[43m,\u001b[49m\u001b[43m \u001b[49m\u001b[43mtorch\u001b[49m\u001b[38;5;241;43m.\u001b[39;49m\u001b[43mfrom_numpy\u001b[49m\u001b[43m(\u001b[49m\u001b[43mtest_output\u001b[49m\u001b[43m)\u001b[49m\u001b[38;5;241;43m.\u001b[39;49m\u001b[43mto\u001b[49m\u001b[43m(\u001b[49m\u001b[43mtorch\u001b[49m\u001b[38;5;241;43m.\u001b[39;49m\u001b[43mfloat32\u001b[49m\u001b[43m)\u001b[49m\u001b[43m,\u001b[49m\u001b[43m \u001b[49m\u001b[43mmodel\u001b[49m\u001b[38;5;241;43m.\u001b[39;49m\u001b[43mnamed_parameters\u001b[49m\u001b[43m(\u001b[49m\u001b[43m)\u001b[49m\u001b[43m)\u001b[49m\n\u001b[1;32m     13\u001b[0m     loss2 \u001b[38;5;241m=\u001b[39m criterion2(out, torch\u001b[38;5;241m.\u001b[39mfrom_numpy(test_output)\u001b[38;5;241m.\u001b[39mto(torch\u001b[38;5;241m.\u001b[39mfloat32), model\u001b[38;5;241m.\u001b[39mnamed_parameters())\n\u001b[1;32m     15\u001b[0m \u001b[38;5;28mprint\u001b[39m(\u001b[38;5;124mf\u001b[39m\u001b[38;5;124m\"\u001b[39m\u001b[38;5;124mAverage test loss (hardcore): \u001b[39m\u001b[38;5;132;01m{\u001b[39;00mloss1\u001b[38;5;250m \u001b[39m\u001b[38;5;241m/\u001b[39m\u001b[38;5;250m \u001b[39mnum_samples\u001b[38;5;132;01m}\u001b[39;00m\u001b[38;5;124m\"\u001b[39m)\n",
      "File \u001b[0;32m~/anaconda3/envs/cap/lib/python3.12/site-packages/torch/nn/modules/module.py:1518\u001b[0m, in \u001b[0;36mModule._wrapped_call_impl\u001b[0;34m(self, *args, **kwargs)\u001b[0m\n\u001b[1;32m   1516\u001b[0m     \u001b[38;5;28;01mreturn\u001b[39;00m \u001b[38;5;28mself\u001b[39m\u001b[38;5;241m.\u001b[39m_compiled_call_impl(\u001b[38;5;241m*\u001b[39margs, \u001b[38;5;241m*\u001b[39m\u001b[38;5;241m*\u001b[39mkwargs)  \u001b[38;5;66;03m# type: ignore[misc]\u001b[39;00m\n\u001b[1;32m   1517\u001b[0m \u001b[38;5;28;01melse\u001b[39;00m:\n\u001b[0;32m-> 1518\u001b[0m     \u001b[38;5;28;01mreturn\u001b[39;00m \u001b[38;5;28;43mself\u001b[39;49m\u001b[38;5;241;43m.\u001b[39;49m\u001b[43m_call_impl\u001b[49m\u001b[43m(\u001b[49m\u001b[38;5;241;43m*\u001b[39;49m\u001b[43margs\u001b[49m\u001b[43m,\u001b[49m\u001b[43m \u001b[49m\u001b[38;5;241;43m*\u001b[39;49m\u001b[38;5;241;43m*\u001b[39;49m\u001b[43mkwargs\u001b[49m\u001b[43m)\u001b[49m\n",
      "File \u001b[0;32m~/anaconda3/envs/cap/lib/python3.12/site-packages/torch/nn/modules/module.py:1527\u001b[0m, in \u001b[0;36mModule._call_impl\u001b[0;34m(self, *args, **kwargs)\u001b[0m\n\u001b[1;32m   1522\u001b[0m \u001b[38;5;66;03m# If we don't have any hooks, we want to skip the rest of the logic in\u001b[39;00m\n\u001b[1;32m   1523\u001b[0m \u001b[38;5;66;03m# this function, and just call forward.\u001b[39;00m\n\u001b[1;32m   1524\u001b[0m \u001b[38;5;28;01mif\u001b[39;00m \u001b[38;5;129;01mnot\u001b[39;00m (\u001b[38;5;28mself\u001b[39m\u001b[38;5;241m.\u001b[39m_backward_hooks \u001b[38;5;129;01mor\u001b[39;00m \u001b[38;5;28mself\u001b[39m\u001b[38;5;241m.\u001b[39m_backward_pre_hooks \u001b[38;5;129;01mor\u001b[39;00m \u001b[38;5;28mself\u001b[39m\u001b[38;5;241m.\u001b[39m_forward_hooks \u001b[38;5;129;01mor\u001b[39;00m \u001b[38;5;28mself\u001b[39m\u001b[38;5;241m.\u001b[39m_forward_pre_hooks\n\u001b[1;32m   1525\u001b[0m         \u001b[38;5;129;01mor\u001b[39;00m _global_backward_pre_hooks \u001b[38;5;129;01mor\u001b[39;00m _global_backward_hooks\n\u001b[1;32m   1526\u001b[0m         \u001b[38;5;129;01mor\u001b[39;00m _global_forward_hooks \u001b[38;5;129;01mor\u001b[39;00m _global_forward_pre_hooks):\n\u001b[0;32m-> 1527\u001b[0m     \u001b[38;5;28;01mreturn\u001b[39;00m \u001b[43mforward_call\u001b[49m\u001b[43m(\u001b[49m\u001b[38;5;241;43m*\u001b[39;49m\u001b[43margs\u001b[49m\u001b[43m,\u001b[49m\u001b[43m \u001b[49m\u001b[38;5;241;43m*\u001b[39;49m\u001b[38;5;241;43m*\u001b[39;49m\u001b[43mkwargs\u001b[49m\u001b[43m)\u001b[49m\n\u001b[1;32m   1529\u001b[0m \u001b[38;5;28;01mtry\u001b[39;00m:\n\u001b[1;32m   1530\u001b[0m     result \u001b[38;5;241m=\u001b[39m \u001b[38;5;28;01mNone\u001b[39;00m\n",
      "\u001b[0;31mTypeError\u001b[0m: MSELoss.forward() takes 3 positional arguments but 4 were given"
     ]
    }
   ],
   "source": [
    "# gets test loss using both criterion\n",
    "\n",
    "preds = torch.empty(batch_size, trial_len, out_dim)\n",
    "\n",
    "num_correct = 0\n",
    "num_samples = len(test_input)\n",
    "\n",
    "model.eval()\n",
    "loss = 0\n",
    "with torch.no_grad():\n",
    "    out = model(torch.from_numpy(test_input).to(torch.float32))\n",
    "    loss1 = criterion1(out, torch.from_numpy(test_output).to(torch.float32), model.named_parameters())\n",
    "    loss2 = criterion2(out, torch.from_numpy(test_output).to(torch.float32), model.named_parameters())\n",
    "\n",
    "print(f\"Average test loss (hardcore): {loss1 / num_samples}\")\n",
    "print(f\"Average test loss (weighted): {loss2 / num_samples}\")"
   ]
  },
  {
   "cell_type": "code",
   "execution_count": 14,
   "metadata": {},
   "outputs": [],
   "source": [
    "import pickle \n",
    "\n",
    "with torch.no_grad():\n",
    "    out = model(torch.from_numpy(new_visual_data).to(torch.float32))\n",
    "\n",
    "with open('no_grad_clipping.pickle', 'wb') as handle:\n",
    "    pickle.dump(out, handle, protocol=pickle.HIGHEST_PROTOCOL)\n"
   ]
  },
  {
   "cell_type": "code",
   "execution_count": 57,
   "metadata": {},
   "outputs": [
    {
     "ename": "ValueError",
     "evalue": "cannot reshape array of size 100 into shape (3)",
     "output_type": "error",
     "traceback": [
      "\u001b[0;31m---------------------------------------------------------------------------\u001b[0m",
      "\u001b[0;31mValueError\u001b[0m                                Traceback (most recent call last)",
      "Cell \u001b[0;32mIn[57], line 2\u001b[0m\n\u001b[1;32m      1\u001b[0m n\u001b[38;5;241m=\u001b[39m\u001b[38;5;241m3\u001b[39m\n\u001b[0;32m----> 2\u001b[0m plt\u001b[38;5;241m.\u001b[39mplot(np\u001b[38;5;241m.\u001b[39maverage(\u001b[43mnp\u001b[49m\u001b[38;5;241;43m.\u001b[39;49m\u001b[43marray\u001b[49m\u001b[43m(\u001b[49m\u001b[43mloss_error\u001b[49m\u001b[43m)\u001b[49m\u001b[38;5;241;43m.\u001b[39;49m\u001b[43mreshape\u001b[49m\u001b[43m(\u001b[49m\u001b[38;5;241;43m-\u001b[39;49m\u001b[38;5;241;43m1\u001b[39;49m\u001b[43m,\u001b[49m\u001b[43m \u001b[49m\u001b[43mn\u001b[49m\u001b[43m)\u001b[49m, axis\u001b[38;5;241m=\u001b[39m\u001b[38;5;241m1\u001b[39m))\n\u001b[1;32m      3\u001b[0m plt\u001b[38;5;241m.\u001b[39mxlabel(\u001b[38;5;124m\"\u001b[39m\u001b[38;5;124msteps\u001b[39m\u001b[38;5;124m\"\u001b[39m)\n\u001b[1;32m      4\u001b[0m plt\u001b[38;5;241m.\u001b[39mylabel(\u001b[38;5;124m\"\u001b[39m\u001b[38;5;124mmse loss\u001b[39m\u001b[38;5;124m\"\u001b[39m)\n",
      "\u001b[0;31mValueError\u001b[0m: cannot reshape array of size 100 into shape (3)"
     ]
    }
   ],
   "source": [
    "n=3\n",
    "plt.plot(np.average(np.array(loss_error).reshape(-1, n), axis=1))\n",
    "plt.xlabel(\"steps\")\n",
    "plt.ylabel(\"mse loss\")"
   ]
  },
  {
   "cell_type": "code",
   "execution_count": null,
   "metadata": {},
   "outputs": [],
   "source": [
    "    \"\"\"for i, (input, output) in enumerate(train_dataset): # 80% of 502 different examples\n",
    "\n",
    "        gen_output, hn = model(input)        \n",
    "\n",
    "        loss = criterion(gen_output, output)\n",
    "        nn.utils.clip_grad_norm_(model.parameters(), 1)\n",
    "        def closure():\n",
    "            gen_output, _ = model(input)\n",
    "            loss = criterion(gen_output, output)\n",
    "            loss.backward(create_graph=True)\n",
    "            return loss, gen_output\n",
    "        optimizer.step(closure, M_inv=None)\n",
    "        # add regularization loss with rate and weights here??\n",
    "        # rate by taking L2 with matrix of zeroes\n",
    "        loss_error.append(loss.item())\n",
    "        \n",
    "        if i == 0 or (i + 1) % print_interval == 0:\n",
    "            print(\n",
    "                f\"Epoch [{epoch + 1}/{num_epochs}], \"\n",
    "                f\"Step [{i + 1}/{len(train_dataset)}], \"\n",
    "                f\"Loss: {loss.item():.4f}\"\n",
    "            )\"\"\""
   ]
  },
  {
   "cell_type": "code",
   "execution_count": null,
   "metadata": {},
   "outputs": [],
   "source": [
    "model2 = MilliesRNN(in_dim, hid_dim, out_dim)\n",
    "\n",
    "module = model2."
   ]
  }
 ],
 "metadata": {
  "kernelspec": {
   "display_name": "newallensdk",
   "language": "python",
   "name": "python3"
  },
  "language_info": {
   "codemirror_mode": {
    "name": "ipython",
    "version": 3
   },
   "file_extension": ".py",
   "mimetype": "text/x-python",
   "name": "python",
   "nbconvert_exporter": "python",
   "pygments_lexer": "ipython3",
   "version": "3.12.3"
  }
 },
 "nbformat": 4,
 "nbformat_minor": 2
}
