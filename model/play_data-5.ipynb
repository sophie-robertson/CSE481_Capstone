{
 "cells": [
  {
   "cell_type": "markdown",
   "metadata": {},
   "source": [
    "Putting the sequential feeding of data into the RNN part of the RNN module (how else are we going to be able to train our thalamus layer??). Implements strucutre of RNN then linear layer then RNN. DOES NOT RUN BUT I AM TIRED AND AM GIVING UP"
   ]
  },
  {
   "cell_type": "code",
   "execution_count": null,
   "metadata": {},
   "outputs": [],
   "source": []
  },
  {
   "cell_type": "code",
   "execution_count": 2,
   "metadata": {},
   "outputs": [],
   "source": [
    "from scipy.io import loadmat\n",
    "import numpy as np\n",
    "import torch \n"
   ]
  },
  {
   "cell_type": "code",
   "execution_count": 3,
   "metadata": {},
   "outputs": [],
   "source": [
    "monkey_data = loadmat('monkey_data.mat') \n",
    "visual_data = monkey_data['inp'][0]\n",
    "muscle_data = monkey_data['targ'][0]\n"
   ]
  },
  {
   "cell_type": "code",
   "execution_count": 4,
   "metadata": {},
   "outputs": [
    {
     "name": "stdout",
     "output_type": "stream",
     "text": [
      "341.0\n"
     ]
    }
   ],
   "source": [
    "test = np.zeros((502, 2))\n",
    "for i, data in enumerate(visual_data):\n",
    "    test[i] = data.shape\n",
    "\n",
    "print(test[:,1].max())"
   ]
  },
  {
   "cell_type": "code",
   "execution_count": 5,
   "metadata": {},
   "outputs": [],
   "source": [
    "batch_size = visual_data.shape[0] # N, 502\n",
    "trial_len = int(test[:,1].max()) # visual_data[0].shape[1] # T, 298 \n",
    "in_dim = visual_data[0].shape[0] # L, 21\n",
    "out_dim = muscle_data[0].shape[0] # O, 50\n",
    "\n",
    "hid_dim = 100\n",
    "num_layers = 3"
   ]
  },
  {
   "cell_type": "code",
   "execution_count": 6,
   "metadata": {},
   "outputs": [
    {
     "name": "stdout",
     "output_type": "stream",
     "text": [
      "(502, 341, 21)\n"
     ]
    }
   ],
   "source": [
    "new_visual_data = np.zeros((batch_size, trial_len, in_dim))\n",
    "\n",
    "for i, data in enumerate(visual_data):\n",
    "    new_visual_data[i, 0:visual_data[i].shape[1], :] = visual_data[i].transpose()\n",
    "print(new_visual_data.shape)"
   ]
  },
  {
   "cell_type": "code",
   "execution_count": 7,
   "metadata": {},
   "outputs": [],
   "source": [
    "import math\n",
    "from sklearn.model_selection import train_test_split\n",
    "from sklearn.utils import gen_batches\n",
    "# np.random.seed()\n",
    "\n",
    " # shuffling was somehow change \n",
    "train_idx, test_idx = train_test_split(\n",
    "     range(batch_size), \n",
    "     test_size=0.2, \n",
    "     shuffle=True )\n",
    "\n",
    "train_input = np.zeros((int(batch_size * .8), trial_len, in_dim))\n",
    "train_output = np.zeros((int(batch_size * .8), trial_len, out_dim))\n",
    "test_input = np.zeros((int(np.ceil(batch_size * .2)), trial_len, in_dim))\n",
    "test_output = np.zeros((int(np.ceil(batch_size * .2)), trial_len, out_dim))\n",
    "train_ind = 0\n",
    "test_ind = 0\n",
    "for i, data in enumerate(visual_data):\n",
    "     if i in train_idx:\n",
    "       # train_input[train_ind, 0:visual_data[i].shape[1], :] = visual_data[i].transpose()\n",
    "       train_input[train_ind, -visual_data[i].shape[1]:, :] = visual_data[i].transpose()\n",
    "       train_output[train_ind, -visual_data[i].shape[1]:, :] = muscle_data[i].transpose()\n",
    "       train_ind += 1\n",
    "     else:\n",
    "        test_input[test_ind, -visual_data[i].shape[1]:, :] = visual_data[i].transpose()\n",
    "        test_output[test_ind, -visual_data[i].shape[1]:, :] = muscle_data[i].transpose()\n",
    "        test_ind += 1\n",
    "\n",
    "\n",
    "\n"
   ]
  },
  {
   "cell_type": "markdown",
   "metadata": {},
   "source": [
    "- ReTanh activation function --> yes\n",
    "- rate regularization: 1e-1 --> yes\n",
    "- weight regularization: 1e-5 --> yes\n",
    "- intermodule sparsity: 0.1 --> no\n",
    "- Hessian free optimization --> yes\n",
    "- birdirectional --> no"
   ]
  },
  {
   "cell_type": "code",
   "execution_count": 8,
   "metadata": {},
   "outputs": [],
   "source": [
    "def hardcore_loss(output, target, model_params):\n",
    "    firing_reg = 1e-1\n",
    "    weight_reg = 1e-5\n",
    "    weight_sum = torch.zeros((1))\n",
    "    for name, param in model_params: \n",
    "        if \"weight\" in name:\n",
    "            weight_sum += torch.sum(param **  2)\n",
    "\n",
    "    print(output.shape)\n",
    "    print(target.shape)\n",
    "    loss = torch.sum((output - target)**2) + firing_reg * torch.sum(output ** 2) + weight_reg * weight_sum\n",
    "    return loss"
   ]
  },
  {
   "cell_type": "code",
   "execution_count": 26,
   "metadata": {},
   "outputs": [
    {
     "name": "stdout",
     "output_type": "stream",
     "text": [
      "Epoch [1/10], Step [1/401], Loss: 0.0262\n",
      "Epoch [1/10], Step [2/401], Loss: 0.0251\n",
      "Epoch [1/10], Step [3/401], Loss: 0.0236\n",
      "Epoch [1/10], Step [4/401], Loss: 0.0213\n",
      "Epoch [1/10], Step [5/401], Loss: 0.0208\n",
      "Epoch [2/10], Step [1/401], Loss: 0.0212\n",
      "Epoch [2/10], Step [2/401], Loss: 0.0204\n",
      "Epoch [2/10], Step [3/401], Loss: 0.0192\n",
      "Epoch [2/10], Step [4/401], Loss: 0.0188\n",
      "Epoch [2/10], Step [5/401], Loss: 0.0193\n",
      "Epoch [3/10], Step [1/401], Loss: 0.0191\n",
      "Epoch [3/10], Step [2/401], Loss: 0.0183\n",
      "Epoch [3/10], Step [3/401], Loss: 0.0180\n",
      "Epoch [3/10], Step [4/401], Loss: 0.0181\n",
      "Epoch [3/10], Step [5/401], Loss: 0.0180\n",
      "Epoch [4/10], Step [1/401], Loss: 0.0175\n",
      "Epoch [4/10], Step [2/401], Loss: 0.0171\n",
      "Epoch [4/10], Step [3/401], Loss: 0.0171\n",
      "Epoch [4/10], Step [4/401], Loss: 0.0173\n",
      "Epoch [4/10], Step [5/401], Loss: 0.0164\n",
      "Epoch [5/10], Step [1/401], Loss: 0.0162\n",
      "Epoch [5/10], Step [2/401], Loss: 0.0163\n",
      "Epoch [5/10], Step [3/401], Loss: 0.0158\n",
      "Epoch [5/10], Step [4/401], Loss: 0.0161\n",
      "Epoch [5/10], Step [5/401], Loss: 0.0148\n",
      "Epoch [6/10], Step [1/401], Loss: 0.0152\n",
      "Epoch [6/10], Step [2/401], Loss: 0.0150\n",
      "Epoch [6/10], Step [3/401], Loss: 0.0140\n",
      "Epoch [6/10], Step [4/401], Loss: 0.0143\n",
      "Epoch [6/10], Step [5/401], Loss: 0.0130\n",
      "Epoch [7/10], Step [1/401], Loss: 0.0125\n",
      "Epoch [7/10], Step [2/401], Loss: 0.0119\n",
      "Epoch [7/10], Step [3/401], Loss: 0.0117\n",
      "Epoch [7/10], Step [4/401], Loss: 0.0122\n",
      "Epoch [7/10], Step [5/401], Loss: 0.0118\n",
      "Epoch [8/10], Step [1/401], Loss: 0.0118\n",
      "Epoch [8/10], Step [2/401], Loss: 0.0125\n",
      "Epoch [8/10], Step [3/401], Loss: 0.0116\n",
      "Epoch [8/10], Step [4/401], Loss: 0.0109\n",
      "Epoch [8/10], Step [5/401], Loss: 0.0114\n",
      "Epoch [9/10], Step [1/401], Loss: 0.0111\n",
      "Epoch [9/10], Step [2/401], Loss: 0.0112\n",
      "Epoch [9/10], Step [3/401], Loss: 0.0116\n",
      "Epoch [9/10], Step [4/401], Loss: 0.0117\n",
      "Epoch [9/10], Step [5/401], Loss: 0.0117\n",
      "Epoch [10/10], Step [1/401], Loss: 0.0119\n",
      "Epoch [10/10], Step [2/401], Loss: 0.0117\n",
      "Epoch [10/10], Step [3/401], Loss: 0.0102\n",
      "Epoch [10/10], Step [4/401], Loss: 0.0121\n",
      "Epoch [10/10], Step [5/401], Loss: 0.0110\n"
     ]
    }
   ],
   "source": [
    "from torch import nn\n",
    "\n",
    "from mrnn import MilliesRNN\n",
    "from hessianfree import HessianFree\n",
    "\n",
    "learning_rate = 0.001\n",
    "hessian = False\n",
    "\n",
    "\n",
    "model = MilliesRNN(in_dim, hid_dim, out_dim)\n",
    "criterion = nn.MSELoss() \n",
    "# criterion = hardcore_loss\n",
    "if hessian:\n",
    "    optimizer = HessianFree(model.parameters(), use_gnm=True, verbose=True)\n",
    "else:\n",
    "    optimizer = torch.optim.Adam(model.parameters(), lr=learning_rate)\n",
    "\n",
    "num_epochs = 10\n",
    "print_interval = 100\n",
    "loss_error = []\n",
    "\n",
    "preds = np.zeros((int(batch_size * .8), trial_len, out_dim))\n",
    "\n",
    "model.train()\n",
    "for epoch in range(num_epochs):\n",
    "    batches = []\n",
    "    shuffed = np.arange(0,401)\n",
    "    np.random.shuffle(shuffed)\n",
    "    for i in range(5): # minibatching w/ replacement   \n",
    "        idx = shuffed[int((train_input.shape[0]/5)*i):int((train_input.shape[0]/5)*(i+1))]\n",
    "        \n",
    "        batches.append(idx)\n",
    "    \n",
    "    for j, batch in enumerate(batches):\n",
    "        \n",
    "        optimizer.zero_grad()\n",
    "\n",
    "        outputs = model(torch.from_numpy(train_input[batch]).to(torch.float32))    \n",
    "\n",
    "        loss = criterion(outputs, torch.from_numpy(train_output[batch]).to(torch.float32))\n",
    "        # loss = criterion(outputs, torch.from_numpy(train_output).to(torch.float32), model.named_parameters())\n",
    "            \n",
    "        nn.utils.clip_grad_norm_(model.parameters(), 1)\n",
    "\n",
    "        def closure():\n",
    "            gen_output = model(torch.from_numpy(train_input[batch]).to(torch.float32))\n",
    "            loss = criterion(gen_output, torch.from_numpy(train_output[batch]).to(torch.float32), model.named_parameters())\n",
    "            loss.backward(create_graph=True)\n",
    "            return loss, gen_output\n",
    "        \n",
    "        if hessian:\n",
    "            optimizer.step(closure, M_inv=None)\n",
    "        else: # gradient descent\n",
    "            loss.backward()\n",
    "            optimizer.step()\n",
    "\n",
    "        loss_error.append(loss.item())\n",
    "        # if i == 0 or (i + 1) % print_interval == 0:\n",
    "        print(\n",
    "            f\"Epoch [{epoch + 1}/{num_epochs}], \"\n",
    "            f\"Step [{j + 1}/{len(train_output)}], \"\n",
    "            f\"Loss: {loss.item():.4f}\"\n",
    "        )\n",
    "        \n",
    "\n"
   ]
  },
  {
   "cell_type": "code",
   "execution_count": 13,
   "metadata": {},
   "outputs": [
    {
     "data": {
      "text/plain": [
       "Text(0, 0.5, 'mse loss')"
      ]
     },
     "execution_count": 13,
     "metadata": {},
     "output_type": "execute_result"
    },
    {
     "data": {
      "image/png": "[encoded data removed]",
      "text/plain": [
       "<Figure size 640x480 with 1 Axes>"
      ]
     },
     "metadata": {},
     "output_type": "display_data"
    }
   ],
   "source": [
    "import matplotlib.pyplot as plt\n",
    "\n",
    "plt.plot(loss_error)\n",
    "plt.xlabel(\"steps\")\n",
    "plt.ylabel(\"mse loss\")"
   ]
  },
  {
   "cell_type": "code",
   "execution_count": 14,
   "metadata": {},
   "outputs": [
    {
     "ename": "ValueError",
     "evalue": "cannot reshape array of size 4 into shape (3)",
     "output_type": "error",
     "traceback": [
      "\u001b[0;31m---------------------------------------------------------------------------\u001b[0m",
      "\u001b[0;31mValueError\u001b[0m                                Traceback (most recent call last)",
      "Cell \u001b[0;32mIn[14], line 2\u001b[0m\n\u001b[1;32m      1\u001b[0m n\u001b[38;5;241m=\u001b[39m\u001b[38;5;241m3\u001b[39m\n\u001b[0;32m----> 2\u001b[0m plt\u001b[38;5;241m.\u001b[39mplot(np\u001b[38;5;241m.\u001b[39maverage(\u001b[43mnp\u001b[49m\u001b[38;5;241;43m.\u001b[39;49m\u001b[43marray\u001b[49m\u001b[43m(\u001b[49m\u001b[43mloss_error\u001b[49m\u001b[43m)\u001b[49m\u001b[38;5;241;43m.\u001b[39;49m\u001b[43mreshape\u001b[49m\u001b[43m(\u001b[49m\u001b[38;5;241;43m-\u001b[39;49m\u001b[38;5;241;43m1\u001b[39;49m\u001b[43m,\u001b[49m\u001b[43m \u001b[49m\u001b[43mn\u001b[49m\u001b[43m)\u001b[49m, axis\u001b[38;5;241m=\u001b[39m\u001b[38;5;241m1\u001b[39m))\n\u001b[1;32m      3\u001b[0m plt\u001b[38;5;241m.\u001b[39mxlabel(\u001b[38;5;124m\"\u001b[39m\u001b[38;5;124msteps\u001b[39m\u001b[38;5;124m\"\u001b[39m)\n\u001b[1;32m      4\u001b[0m plt\u001b[38;5;241m.\u001b[39mylabel(\u001b[38;5;124m\"\u001b[39m\u001b[38;5;124mmse loss\u001b[39m\u001b[38;5;124m\"\u001b[39m)\n",
      "\u001b[0;31mValueError\u001b[0m: cannot reshape array of size 4 into shape (3)"
     ]
    }
   ],
   "source": [
    "n=3\n",
    "plt.plot(np.average(np.array(loss_error).reshape(-1, n), axis=1))\n",
    "plt.xlabel(\"steps\")\n",
    "plt.ylabel(\"mse loss\")"
   ]
  },
  {
   "cell_type": "code",
   "execution_count": 15,
   "metadata": {},
   "outputs": [
    {
     "ename": "NameError",
     "evalue": "name 'test_dataset' is not defined",
     "output_type": "error",
     "traceback": [
      "\u001b[0;31m---------------------------------------------------------------------------\u001b[0m",
      "\u001b[0;31mNameError\u001b[0m                                 Traceback (most recent call last)",
      "Cell \u001b[0;32mIn[15], line 4\u001b[0m\n\u001b[1;32m      1\u001b[0m preds \u001b[38;5;241m=\u001b[39m torch\u001b[38;5;241m.\u001b[39mempty(batch_size, trial_len, out_dim)\n\u001b[1;32m      3\u001b[0m num_correct \u001b[38;5;241m=\u001b[39m \u001b[38;5;241m0\u001b[39m\n\u001b[0;32m----> 4\u001b[0m num_samples \u001b[38;5;241m=\u001b[39m \u001b[38;5;28mlen\u001b[39m(\u001b[43mtest_dataset\u001b[49m)\n\u001b[1;32m      6\u001b[0m model\u001b[38;5;241m.\u001b[39meval()\n\u001b[1;32m      9\u001b[0m total_loss \u001b[38;5;241m=\u001b[39m \u001b[38;5;241m0\u001b[39m\n",
      "\u001b[0;31mNameError\u001b[0m: name 'test_dataset' is not defined"
     ]
    }
   ],
   "source": [
    "preds = torch.empty(batch_size, trial_len, out_dim)\n",
    "\n",
    "num_correct = 0\n",
    "num_samples = len(test_dataset)\n",
    "\n",
    "model.eval()\n",
    "\n",
    "\n",
    "total_loss = 0\n",
    "with torch.no_grad():\n",
    "    for (input, output) in test_dataset:\n",
    "        out, hidden_state = model(input)\n",
    "        loss = criterion(out, output)\n",
    "        total_loss += loss\n",
    "\n",
    "print(f\"Average test loss: {total_loss / 101}\")"
   ]
  },
  {
   "cell_type": "code",
   "execution_count": 16,
   "metadata": {},
   "outputs": [
    {
     "data": {
      "text/plain": [
       "'for i, (input, output) in enumerate(train_dataset): # 80% of 502 different examples\\n\\n    gen_output, hn = model(input)        \\n\\n    loss = criterion(gen_output, output)\\n    nn.utils.clip_grad_norm_(model.parameters(), 1)\\n    def closure():\\n        gen_output, _ = model(input)\\n        loss = criterion(gen_output, output)\\n        loss.backward(create_graph=True)\\n        return loss, gen_output\\n    optimizer.step(closure, M_inv=None)\\n    # add regularization loss with rate and weights here??\\n    # rate by taking L2 with matrix of zeroes\\n    loss_error.append(loss.item())\\n    \\n    if i == 0 or (i + 1) % print_interval == 0:\\n        print(\\n            f\"Epoch [{epoch + 1}/{num_epochs}], \"\\n            f\"Step [{i + 1}/{len(train_dataset)}], \"\\n            f\"Loss: {loss.item():.4f}\"\\n        )'"
      ]
     },
     "execution_count": 16,
     "metadata": {},
     "output_type": "execute_result"
    }
   ],
   "source": [
    "    \"\"\"for i, (input, output) in enumerate(train_dataset): # 80% of 502 different examples\n",
    "\n",
    "        gen_output, hn = model(input)        \n",
    "\n",
    "        loss = criterion(gen_output, output)\n",
    "        nn.utils.clip_grad_norm_(model.parameters(), 1)\n",
    "        def closure():\n",
    "            gen_output, _ = model(input)\n",
    "            loss = criterion(gen_output, output)\n",
    "            loss.backward(create_graph=True)\n",
    "            return loss, gen_output\n",
    "        optimizer.step(closure, M_inv=None)\n",
    "        # add regularization loss with rate and weights here??\n",
    "        # rate by taking L2 with matrix of zeroes\n",
    "        loss_error.append(loss.item())\n",
    "        \n",
    "        if i == 0 or (i + 1) % print_interval == 0:\n",
    "            print(\n",
    "                f\"Epoch [{epoch + 1}/{num_epochs}], \"\n",
    "                f\"Step [{i + 1}/{len(train_dataset)}], \"\n",
    "                f\"Loss: {loss.item():.4f}\"\n",
    "            )\"\"\""
   ]
  },
  {
   "cell_type": "code",
   "execution_count": 31,
   "metadata": {},
   "outputs": [
    {
     "name": "stdout",
     "output_type": "stream",
     "text": [
      "Epoch [1/10], Step [1/401], Loss: 0.0116\n",
      "Epoch [1/10], Step [2/401], Loss: 0.0120\n",
      "Epoch [1/10], Step [3/401], Loss: 0.0115\n",
      "Epoch [1/10], Step [4/401], Loss: 0.0111\n",
      "Epoch [1/10], Step [5/401], Loss: 0.0108\n",
      "Epoch [2/10], Step [1/401], Loss: 0.0107\n",
      "Epoch [2/10], Step [2/401], Loss: 0.0113\n",
      "Epoch [2/10], Step [3/401], Loss: 0.0115\n",
      "Epoch [2/10], Step [4/401], Loss: 0.0112\n",
      "Epoch [2/10], Step [5/401], Loss: 0.0119\n",
      "Epoch [3/10], Step [1/401], Loss: 0.0114\n",
      "Epoch [3/10], Step [2/401], Loss: 0.0110\n",
      "Epoch [3/10], Step [3/401], Loss: 0.0111\n",
      "Epoch [3/10], Step [4/401], Loss: 0.0117\n",
      "Epoch [3/10], Step [5/401], Loss: 0.0111\n",
      "Epoch [4/10], Step [1/401], Loss: 0.0109\n",
      "Epoch [4/10], Step [2/401], Loss: 0.0111\n",
      "Epoch [4/10], Step [3/401], Loss: 0.0110\n",
      "Epoch [4/10], Step [4/401], Loss: 0.0115\n",
      "Epoch [4/10], Step [5/401], Loss: 0.0117\n",
      "Epoch [5/10], Step [1/401], Loss: 0.0111\n",
      "Epoch [5/10], Step [2/401], Loss: 0.0113\n",
      "Epoch [5/10], Step [3/401], Loss: 0.0113\n",
      "Epoch [5/10], Step [4/401], Loss: 0.0111\n",
      "Epoch [5/10], Step [5/401], Loss: 0.0112\n",
      "Epoch [6/10], Step [1/401], Loss: 0.0109\n",
      "Epoch [6/10], Step [2/401], Loss: 0.0107\n",
      "Epoch [6/10], Step [3/401], Loss: 0.0110\n",
      "Epoch [6/10], Step [4/401], Loss: 0.0115\n",
      "Epoch [6/10], Step [5/401], Loss: 0.0117\n",
      "Epoch [7/10], Step [1/401], Loss: 0.0111\n",
      "Epoch [7/10], Step [2/401], Loss: 0.0114\n",
      "Epoch [7/10], Step [3/401], Loss: 0.0109\n",
      "Epoch [7/10], Step [4/401], Loss: 0.0115\n",
      "Epoch [7/10], Step [5/401], Loss: 0.0105\n",
      "Epoch [8/10], Step [1/401], Loss: 0.0107\n",
      "Epoch [8/10], Step [2/401], Loss: 0.0111\n",
      "Epoch [8/10], Step [3/401], Loss: 0.0114\n",
      "Epoch [8/10], Step [4/401], Loss: 0.0107\n",
      "Epoch [8/10], Step [5/401], Loss: 0.0113\n",
      "Epoch [9/10], Step [1/401], Loss: 0.0109\n",
      "Epoch [9/10], Step [2/401], Loss: 0.0108\n",
      "Epoch [9/10], Step [3/401], Loss: 0.0109\n",
      "Epoch [9/10], Step [4/401], Loss: 0.0111\n",
      "Epoch [9/10], Step [5/401], Loss: 0.0108\n",
      "Epoch [10/10], Step [1/401], Loss: 0.0104\n",
      "Epoch [10/10], Step [2/401], Loss: 0.0111\n",
      "Epoch [10/10], Step [3/401], Loss: 0.0106\n",
      "Epoch [10/10], Step [4/401], Loss: 0.0107\n",
      "Epoch [10/10], Step [5/401], Loss: 0.0105\n"
     ]
    }
   ],
   "source": [
    "from torch import nn\n",
    "\n",
    "from mrnn import MilliesRNN\n",
    "from hessianfree import HessianFree\n",
    "\n",
    "import torch.nn.utils.prune as prune\n",
    "import torch.nn.functional as F\n",
    "\n",
    "learning_rate = 0.001\n",
    "hessian = False\n",
    "\n",
    "model2 = MilliesRNN(in_dim, hid_dim, out_dim)\n",
    "\n",
    "module1 = model2.h2o\n",
    "prune.random_unstructured(module1, name=\"weight\", amount=0.9)\n",
    "module2 = model2.thal\n",
    "prune.random_unstructured(module2, name=\"weight\", amount=0.9)\n",
    "\n",
    "\n",
    "criterion = nn.MSELoss() \n",
    "# criterion = hardcore_loss\n",
    "if hessian:\n",
    "    optimizer = HessianFree(model.parameters(), use_gnm=True, verbose=True)\n",
    "else:\n",
    "    optimizer = torch.optim.Adam(model.parameters(), lr=learning_rate)\n",
    "\n",
    "num_epochs = 10\n",
    "print_interval = 100\n",
    "loss_error = []\n",
    "\n",
    "preds = np.zeros((int(batch_size * .8), trial_len, out_dim))\n",
    "\n",
    "model.train()\n",
    "for epoch in range(num_epochs):\n",
    "    batches = []\n",
    "    shuffed = np.arange(0,401)\n",
    "    np.random.shuffle(shuffed)\n",
    "    for i in range(5): # minibatching w/ replacement   \n",
    "        idx = shuffed[int((train_input.shape[0]/5)*i):int((train_input.shape[0]/5)*(i+1))]\n",
    "        \n",
    "        batches.append(idx)\n",
    "    \n",
    "    for j, batch in enumerate(batches):\n",
    "        \n",
    "        optimizer.zero_grad()\n",
    "\n",
    "        outputs = model(torch.from_numpy(train_input[batch]).to(torch.float32))    \n",
    "\n",
    "        loss = criterion(outputs, torch.from_numpy(train_output[batch]).to(torch.float32))\n",
    "        # loss = criterion(outputs, torch.from_numpy(train_output).to(torch.float32), model.named_parameters())\n",
    "            \n",
    "        nn.utils.clip_grad_norm_(model.parameters(), 1)\n",
    "\n",
    "        def closure():\n",
    "            gen_output = model(torch.from_numpy(train_input[batch]).to(torch.float32))\n",
    "            loss = criterion(gen_output, torch.from_numpy(train_output[batch]).to(torch.float32), model.named_parameters())\n",
    "            loss.backward(create_graph=True)\n",
    "            return loss, gen_output\n",
    "        \n",
    "        if hessian:\n",
    "            optimizer.step(closure, M_inv=None)\n",
    "        else: # gradient descent\n",
    "            loss.backward()\n",
    "            optimizer.step()\n",
    "\n",
    "        loss_error.append(loss.item())\n",
    "        # if i == 0 or (i + 1) % print_interval == 0:\n",
    "        print(\n",
    "            f\"Epoch [{epoch + 1}/{num_epochs}], \"\n",
    "            f\"Step [{j + 1}/{len(train_output)}], \"\n",
    "            f\"Loss: {loss.item():.4f}\"\n",
    "        )"
   ]
  },
  {
   "cell_type": "code",
   "execution_count": 32,
   "metadata": {},
   "outputs": [
    {
     "data": {
      "text/plain": [
       "Text(0, 0.5, 'mse loss')"
      ]
     },
     "execution_count": 32,
     "metadata": {},
     "output_type": "execute_result"
    },
    {
     "data": {
      "image/png": "[encoded data removed]",
      "text/plain": [
       "<Figure size 640x480 with 1 Axes>"
      ]
     },
     "metadata": {},
     "output_type": "display_data"
    }
   ],
   "source": [
    "import matplotlib.pyplot as plt\n",
    "\n",
    "plt.plot(loss_error)\n",
    "plt.xlabel(\"steps\")\n",
    "plt.ylabel(\"mse loss\")\n"
   ]
  },
  {
   "cell_type": "code",
   "execution_count": null,
   "metadata": {},
   "outputs": [],
   "source": []
  }
 ],
 "metadata": {
  "kernelspec": {
   "display_name": "newallensdk",
   "language": "python",
   "name": "python3"
  },
  "language_info": {
   "codemirror_mode": {
    "name": "ipython",
    "version": 3
   },
   "file_extension": ".py",
   "mimetype": "text/x-python",
   "name": "python",
   "nbconvert_exporter": "python",
   "pygments_lexer": "ipython3",
   "version": "3.12.3"
  }
 },
 "nbformat": 4,
 "nbformat_minor": 2
}
