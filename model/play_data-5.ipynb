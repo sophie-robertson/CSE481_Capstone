{
 "cells": [
  {
   "cell_type": "markdown",
   "metadata": {},
   "source": [
    "Putting the sequential feeding of data into the RNN part of the RNN module (how else are we going to be able to train our thalamus layer??). Implements strucutre of RNN then linear layer then RNN. DOES NOT RUN BUT I AM TIRED AND AM GIVING UP"
   ]
  },
  {
   "cell_type": "code",
   "execution_count": null,
   "metadata": {},
   "outputs": [],
   "source": []
  },
  {
   "cell_type": "code",
   "execution_count": 1,
   "metadata": {},
   "outputs": [],
   "source": [
    "from scipy.io import loadmat\n",
    "import numpy as np\n",
    "import torch \n"
   ]
  },
  {
   "cell_type": "code",
   "execution_count": 2,
   "metadata": {},
   "outputs": [],
   "source": [
    "monkey_data = loadmat('monkey_data.mat') \n",
    "visual_data = monkey_data['inp'][0]\n",
    "muscle_data = monkey_data['targ'][0]\n"
   ]
  },
  {
   "cell_type": "code",
   "execution_count": 3,
   "metadata": {},
   "outputs": [
    {
     "name": "stdout",
     "output_type": "stream",
     "text": [
      "341.0\n"
     ]
    }
   ],
   "source": [
    "test = np.zeros((502, 2))\n",
    "for i, data in enumerate(visual_data):\n",
    "    test[i] = data.shape\n",
    "\n",
    "print(test[:,1].max())"
   ]
  },
  {
   "cell_type": "code",
   "execution_count": 4,
   "metadata": {},
   "outputs": [],
   "source": [
    "batch_size = visual_data.shape[0] # N, 502\n",
    "trial_len = int(test[:,1].max()) # visual_data[0].shape[1] # T, 298 \n",
    "in_dim = visual_data[0].shape[0] # L, 21\n",
    "out_dim = muscle_data[0].shape[0] # O, 50\n",
    "\n",
    "hid_dim = 100\n",
    "num_layers = 3"
   ]
  },
  {
   "cell_type": "code",
   "execution_count": 5,
   "metadata": {},
   "outputs": [
    {
     "name": "stdout",
     "output_type": "stream",
     "text": [
      "(502, 341, 21)\n"
     ]
    }
   ],
   "source": [
    "new_visual_data = np.zeros((batch_size, trial_len, in_dim))\n",
    "\n",
    "for i, data in enumerate(visual_data):\n",
    "    new_visual_data[i, 0:visual_data[i].shape[1], :] = visual_data[i].transpose()\n",
    "print(new_visual_data.shape)"
   ]
  },
  {
   "cell_type": "code",
   "execution_count": 6,
   "metadata": {},
   "outputs": [],
   "source": [
    "import math\n",
    "from sklearn.model_selection import train_test_split\n",
    "from sklearn.utils import gen_batches\n",
    "# np.random.seed()\n",
    "\n",
    " # shuffling was somehow change \n",
    "train_idx, test_idx = train_test_split(\n",
    "     range(batch_size), \n",
    "     test_size=0.2, \n",
    "     shuffle=True )\n",
    "\n",
    "train_input = np.zeros((int(batch_size * .8), trial_len, in_dim))\n",
    "train_output = np.zeros((int(batch_size * .8), trial_len, out_dim))\n",
    "test_input = np.zeros((int(np.ceil(batch_size * .2)), trial_len, in_dim))\n",
    "test_output = np.zeros((int(np.ceil(batch_size * .2)), trial_len, out_dim))\n",
    "train_ind = 0\n",
    "test_ind = 0\n",
    "for i, data in enumerate(visual_data):\n",
    "     if i in train_idx:\n",
    "       # train_input[train_ind, 0:visual_data[i].shape[1], :] = visual_data[i].transpose()\n",
    "       train_input[train_ind, -visual_data[i].shape[1]:, :] = visual_data[i].transpose()\n",
    "       train_output[train_ind, -visual_data[i].shape[1]:, :] = muscle_data[i].transpose()\n",
    "       train_ind += 1\n",
    "     else:\n",
    "        test_input[test_ind, -visual_data[i].shape[1]:, :] = visual_data[i].transpose()\n",
    "        test_output[test_ind, -visual_data[i].shape[1]:, :] = muscle_data[i].transpose()\n",
    "        test_ind += 1\n",
    "\n",
    "\n",
    "\n"
   ]
  },
  {
   "cell_type": "markdown",
   "metadata": {},
   "source": [
    "- ReTanh activation function --> yes\n",
    "- rate regularization: 1e-1 --> yes\n",
    "- weight regularization: 1e-5 --> yes\n",
    "- intermodule sparsity: 0.1 --> no\n",
    "- Hessian free optimization --> yes\n",
    "- birdirectional --> no"
   ]
  },
  {
   "cell_type": "code",
   "execution_count": 14,
   "metadata": {},
   "outputs": [],
   "source": [
    "def hardcore_loss(output, target, model_params):\n",
    "    firing_reg = 1e-1\n",
    "    weight_reg = 1e-5\n",
    "    weight_sum = torch.zeros((1))\n",
    "    for name, param in model_params: \n",
    "        if \"weight\" in name:\n",
    "            weight_sum += torch.sum(param **  2)\n",
    "\n",
    "    print(output.shape)\n",
    "    print(target.shape)\n",
    "    loss = torch.sum((output - target)**2) + firing_reg * torch.sum(output ** 2) + weight_reg * weight_sum\n",
    "    return loss"
   ]
  },
  {
   "cell_type": "code",
   "execution_count": 15,
   "metadata": {},
   "outputs": [
    {
     "name": "stdout",
     "output_type": "stream",
     "text": [
      "torch.Size([80, 341, 50])\n",
      "torch.Size([401, 341, 50])\n"
     ]
    },
    {
     "ename": "RuntimeError",
     "evalue": "The size of tensor a (80) must match the size of tensor b (401) at non-singleton dimension 0",
     "output_type": "error",
     "traceback": [
      "\u001b[0;31m---------------------------------------------------------------------------\u001b[0m",
      "\u001b[0;31mRuntimeError\u001b[0m                              Traceback (most recent call last)",
      "Cell \u001b[0;32mIn[15], line 41\u001b[0m\n\u001b[1;32m     38\u001b[0m outputs \u001b[38;5;241m=\u001b[39m model(torch\u001b[38;5;241m.\u001b[39mfrom_numpy(train_input[batch])\u001b[38;5;241m.\u001b[39mto(torch\u001b[38;5;241m.\u001b[39mfloat32))    \n\u001b[1;32m     40\u001b[0m \u001b[38;5;66;03m# loss = criterion(outputs, torch.from_numpy(train_output[batch]).to(torch.float32))\u001b[39;00m\n\u001b[0;32m---> 41\u001b[0m loss \u001b[38;5;241m=\u001b[39m \u001b[43mcriterion\u001b[49m\u001b[43m(\u001b[49m\u001b[43moutputs\u001b[49m\u001b[43m,\u001b[49m\u001b[43m \u001b[49m\u001b[43mtorch\u001b[49m\u001b[38;5;241;43m.\u001b[39;49m\u001b[43mfrom_numpy\u001b[49m\u001b[43m(\u001b[49m\u001b[43mtrain_output\u001b[49m\u001b[43m)\u001b[49m\u001b[38;5;241;43m.\u001b[39;49m\u001b[43mto\u001b[49m\u001b[43m(\u001b[49m\u001b[43mtorch\u001b[49m\u001b[38;5;241;43m.\u001b[39;49m\u001b[43mfloat32\u001b[49m\u001b[43m)\u001b[49m\u001b[43m,\u001b[49m\u001b[43m \u001b[49m\u001b[43mmodel\u001b[49m\u001b[38;5;241;43m.\u001b[39;49m\u001b[43mnamed_parameters\u001b[49m\u001b[43m(\u001b[49m\u001b[43m)\u001b[49m\u001b[43m)\u001b[49m\n\u001b[1;32m     43\u001b[0m nn\u001b[38;5;241m.\u001b[39mutils\u001b[38;5;241m.\u001b[39mclip_grad_norm_(model\u001b[38;5;241m.\u001b[39mparameters(), \u001b[38;5;241m1\u001b[39m)\n\u001b[1;32m     45\u001b[0m \u001b[38;5;28;01mdef\u001b[39;00m \u001b[38;5;21mclosure\u001b[39m():\n",
      "Cell \u001b[0;32mIn[14], line 11\u001b[0m, in \u001b[0;36mhardcore_loss\u001b[0;34m(output, target, model_params)\u001b[0m\n\u001b[1;32m      9\u001b[0m \u001b[38;5;28mprint\u001b[39m(output\u001b[38;5;241m.\u001b[39mshape)\n\u001b[1;32m     10\u001b[0m \u001b[38;5;28mprint\u001b[39m(target\u001b[38;5;241m.\u001b[39mshape)\n\u001b[0;32m---> 11\u001b[0m loss \u001b[38;5;241m=\u001b[39m torch\u001b[38;5;241m.\u001b[39msum((\u001b[43moutput\u001b[49m\u001b[43m \u001b[49m\u001b[38;5;241;43m-\u001b[39;49m\u001b[43m \u001b[49m\u001b[43mtarget\u001b[49m)\u001b[38;5;241m*\u001b[39m\u001b[38;5;241m*\u001b[39m\u001b[38;5;241m2\u001b[39m) \u001b[38;5;241m+\u001b[39m firing_reg \u001b[38;5;241m*\u001b[39m torch\u001b[38;5;241m.\u001b[39msum(output \u001b[38;5;241m*\u001b[39m\u001b[38;5;241m*\u001b[39m \u001b[38;5;241m2\u001b[39m) \u001b[38;5;241m+\u001b[39m weight_reg \u001b[38;5;241m*\u001b[39m weight_sum\n\u001b[1;32m     12\u001b[0m \u001b[38;5;28;01mreturn\u001b[39;00m loss\n",
      "\u001b[0;31mRuntimeError\u001b[0m: The size of tensor a (80) must match the size of tensor b (401) at non-singleton dimension 0"
     ]
    }
   ],
   "source": [
    "from torch import nn\n",
    "\n",
    "from mrnn import MilliesRNN\n",
    "from hessianfree import HessianFree\n",
    "\n",
    "learning_rate = 0.001\n",
    "hessian = False\n",
    "\n",
    "\n",
    "model = MilliesRNN(in_dim, hid_dim, out_dim)\n",
    "# criterion = nn.MSELoss() \n",
    "criterion = hardcore_loss\n",
    "if hessian:\n",
    "    optimizer = HessianFree(model.parameters(), use_gnm=True, verbose=True)\n",
    "else:\n",
    "    optimizer = torch.optim.Adam(model.parameters(), lr=learning_rate)\n",
    "\n",
    "num_epochs = 10\n",
    "print_interval = 100\n",
    "loss_error = []\n",
    "\n",
    "preds = np.zeros((int(batch_size * .8), trial_len, out_dim))\n",
    "\n",
    "model.train()\n",
    "for epoch in range(num_epochs):\n",
    "    batches = []\n",
    "    shuffed = np.arange(0,401)\n",
    "    np.random.shuffle(shuffed)\n",
    "    for i in range(5): # minibatching w/ replacement   \n",
    "        idx = shuffed[int((train_input.shape[0]/5)*i):int((train_input.shape[0]/5)*(i+1))]\n",
    "        \n",
    "        batches.append(idx)\n",
    "    \n",
    "    for j, batch in enumerate(batches):\n",
    "        \n",
    "        optimizer.zero_grad()\n",
    "\n",
    "        outputs = model(torch.from_numpy(train_input[batch]).to(torch.float32))    \n",
    "\n",
    "        # loss = criterion(outputs, torch.from_numpy(train_output[batch]).to(torch.float32))\n",
    "        loss = criterion(outputs, torch.from_numpy(train_output).to(torch.float32), model.named_parameters())\n",
    "            \n",
    "        nn.utils.clip_grad_norm_(model.parameters(), 1)\n",
    "\n",
    "        def closure():\n",
    "            gen_output = model(torch.from_numpy(train_input[batch]).to(torch.float32))\n",
    "            loss = criterion(gen_output, torch.from_numpy(train_output[batch]).to(torch.float32), model.named_parameters())\n",
    "            loss.backward(create_graph=True)\n",
    "            return loss, gen_output\n",
    "        \n",
    "        if hessian:\n",
    "            optimizer.step(closure, M_inv=None)\n",
    "        else: # gradient descent\n",
    "            loss.backward()\n",
    "            optimizer.step()\n",
    "\n",
    "        loss_error.append(loss.item())\n",
    "        # if i == 0 or (i + 1) % print_interval == 0:\n",
    "        print(\n",
    "            f\"Epoch [{epoch + 1}/{num_epochs}], \"\n",
    "            f\"Step [{j + 1}/{len(train_output)}], \"\n",
    "            f\"Loss: {loss.item():.4f}\"\n",
    "        )\n",
    "        \n",
    "\n"
   ]
  },
  {
   "cell_type": "code",
   "execution_count": 9,
   "metadata": {},
   "outputs": [
    {
     "data": {
      "text/plain": [
       "Text(0, 0.5, 'mse loss')"
      ]
     },
     "execution_count": 9,
     "metadata": {},
     "output_type": "execute_result"
    },
    {
     "data": {
      "image/png": "[encoded data removed]",
      "text/plain": [
       "<Figure size 640x480 with 1 Axes>"
      ]
     },
     "metadata": {},
     "output_type": "display_data"
    }
   ],
   "source": [
    "import matplotlib.pyplot as plt\n",
    "\n",
    "plt.plot(loss_error)\n",
    "plt.xlabel(\"steps\")\n",
    "plt.ylabel(\"mse loss\")"
   ]
  },
  {
   "cell_type": "code",
   "execution_count": null,
   "metadata": {},
   "outputs": [],
   "source": [
    "n=3\n",
    "plt.plot(np.average(np.array(loss_error).reshape(-1, n), axis=1))\n",
    "plt.xlabel(\"steps\")\n",
    "plt.ylabel(\"mse loss\")"
   ]
  },
  {
   "cell_type": "code",
   "execution_count": null,
   "metadata": {},
   "outputs": [],
   "source": [
    "preds = torch.empty(batch_size, trial_len, out_dim)\n",
    "\n",
    "num_correct = 0\n",
    "num_samples = len(test_dataset)\n",
    "\n",
    "model.eval()\n",
    "\n",
    "\n",
    "total_loss = 0\n",
    "with torch.no_grad():\n",
    "    for (input, output) in test_dataset:\n",
    "        out, hidden_state = model(input)\n",
    "        loss = criterion(out, output)\n",
    "        total_loss += loss\n",
    "\n",
    "print(f\"Average test loss: {total_loss / 101}\")"
   ]
  },
  {
   "cell_type": "code",
   "execution_count": null,
   "metadata": {},
   "outputs": [],
   "source": [
    "    \"\"\"for i, (input, output) in enumerate(train_dataset): # 80% of 502 different examples\n",
    "\n",
    "        gen_output, hn = model(input)        \n",
    "\n",
    "        loss = criterion(gen_output, output)\n",
    "        nn.utils.clip_grad_norm_(model.parameters(), 1)\n",
    "        def closure():\n",
    "            gen_output, _ = model(input)\n",
    "            loss = criterion(gen_output, output)\n",
    "            loss.backward(create_graph=True)\n",
    "            return loss, gen_output\n",
    "        optimizer.step(closure, M_inv=None)\n",
    "        # add regularization loss with rate and weights here??\n",
    "        # rate by taking L2 with matrix of zeroes\n",
    "        loss_error.append(loss.item())\n",
    "        \n",
    "        if i == 0 or (i + 1) % print_interval == 0:\n",
    "            print(\n",
    "                f\"Epoch [{epoch + 1}/{num_epochs}], \"\n",
    "                f\"Step [{i + 1}/{len(train_dataset)}], \"\n",
    "                f\"Loss: {loss.item():.4f}\"\n",
    "            )\"\"\""
   ]
  },
  {
   "cell_type": "code",
   "execution_count": null,
   "metadata": {},
   "outputs": [],
   "source": [
    "model2 = MilliesRNN(in_dim, hid_dim, out_dim)\n",
    "\n",
    "module = model2."
   ]
  }
 ],
 "metadata": {
  "kernelspec": {
   "display_name": "newallensdk",
   "language": "python",
   "name": "python3"
  },
  "language_info": {
   "codemirror_mode": {
    "name": "ipython",
    "version": 3
   },
   "file_extension": ".py",
   "mimetype": "text/x-python",
   "name": "python",
   "nbconvert_exporter": "python",
   "pygments_lexer": "ipython3",
   "version": "3.9.18"
  }
 },
 "nbformat": 4,
 "nbformat_minor": 2
}
