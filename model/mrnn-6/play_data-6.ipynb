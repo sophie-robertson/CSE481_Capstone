{
 "cells": [
  {
   "cell_type": "markdown",
   "metadata": {},
   "source": [
    "Putting the sequential feeding of data into the RNN part of the RNN module (how else are we going to be able to train our thalamus layer??). Implements strucutre of RNN then linear layer then RNN. DOES NOT RUN BUT I AM TIRED AND AM GIVING UP"
   ]
  },
  {
   "cell_type": "code",
   "execution_count": 36,
   "metadata": {},
   "outputs": [],
   "source": [
    "from scipy.io import loadmat\n",
    "import numpy as np\n",
    "import torch \n"
   ]
  },
  {
   "cell_type": "code",
   "execution_count": 37,
   "metadata": {},
   "outputs": [],
   "source": [
    "monkey_data = loadmat('monkey_data.mat') \n",
    "visual_data = monkey_data['inp'][0]\n",
    "muscle_data = monkey_data['targ'][0]"
   ]
  },
  {
   "cell_type": "code",
   "execution_count": 38,
   "metadata": {},
   "outputs": [
    {
     "name": "stdout",
     "output_type": "stream",
     "text": [
      "341.0\n"
     ]
    }
   ],
   "source": [
    "test = np.zeros((502, 2))\n",
    "for i, data in enumerate(visual_data):\n",
    "    test[i] = data.shape\n",
    "\n",
    "print(test[:,1].max())"
   ]
  },
  {
   "cell_type": "code",
   "execution_count": 39,
   "metadata": {},
   "outputs": [],
   "source": [
    "batch_size = visual_data.shape[0] # N, 502\n",
    "trial_len = int(test[:,1].max()) # visual_data[0].shape[1] # T, 298 \n",
    "in_dim = visual_data[0].shape[0] # L, 21\n",
    "out_dim = muscle_data[0].shape[0] # O, 50\n",
    "\n",
    "hid_dim = 100\n",
    "num_layers = 3"
   ]
  },
  {
   "cell_type": "code",
   "execution_count": 40,
   "metadata": {},
   "outputs": [
    {
     "name": "stdout",
     "output_type": "stream",
     "text": [
      "(502, 341, 21)\n"
     ]
    }
   ],
   "source": [
    "new_visual_data = np.zeros((batch_size, trial_len, in_dim))\n",
    "\n",
    "for i, data in enumerate(visual_data):\n",
    "    new_visual_data[i, 0:visual_data[i].shape[1], :] = visual_data[i].transpose()\n",
    "print(new_visual_data.shape)"
   ]
  },
  {
   "cell_type": "code",
   "execution_count": 41,
   "metadata": {},
   "outputs": [],
   "source": [
    "import math\n",
    "from sklearn.model_selection import train_test_split\n",
    "from sklearn.utils import gen_batches\n",
    "# np.random.seed()\n",
    "\n",
    " # shuffling was somehow change \n",
    "train_idx, test_idx = train_test_split(\n",
    "     range(batch_size), \n",
    "     test_size=0.2, \n",
    "     shuffle=True )\n",
    "\n",
    "train_input = np.zeros((int(batch_size * .8), trial_len, in_dim))\n",
    "train_output = np.zeros((int(batch_size * .8), trial_len, out_dim))\n",
    "test_input = np.zeros((int(np.ceil(batch_size * .2)), trial_len, in_dim))\n",
    "test_output = np.zeros((int(np.ceil(batch_size * .2)), trial_len, out_dim))\n",
    "train_ind = 0\n",
    "test_ind = 0\n",
    "for i, data in enumerate(visual_data):\n",
    "     if i in train_idx:\n",
    "       # train_input[train_ind, 0:visual_data[i].shape[1], :] = visual_data[i].transpose()\n",
    "       train_input[train_ind, -visual_data[i].shape[1]:, :] = visual_data[i].transpose()\n",
    "       train_output[train_ind, -visual_data[i].shape[1]:, :] = muscle_data[i].transpose()\n",
    "       train_ind += 1\n",
    "     else:\n",
    "        test_input[test_ind, -visual_data[i].shape[1]:, :] = visual_data[i].transpose()\n",
    "        test_output[test_ind, -visual_data[i].shape[1]:, :] = muscle_data[i].transpose()\n",
    "        test_ind += 1\n",
    "\n",
    "# for use in weighted loss\n",
    "muscle_length_vec = torch.tensor([9.8, 10.8, 13.7, 6.8, 7.6, 8.7, 7.4, 16.2, 14.4, 13.8, 13.8, 25.4, 23.2, 27.9, 9.3, 13.4, 11.4, 11.4, 2.7, 3.3, 11.6, 13.2, 8.6, 17.3, 8.1, 5.9, 6.2, 6.3, 5.1, 6.4, 4.9, 2.8, 5.2, 7.4, 7.5, 8.4, 7.5, 8.0, 8.4, 7.5, 6.5, 6.3, 7.2, 7.0, 6.8, 5.9, 5.4, 6.8, 5.5, 7.1])\n",
    "muscle_weight_vec = (1/muscle_length_vec) * (2.5*torch.min(muscle_length_vec))\n",
    "\n",
    "\n",
    "\n"
   ]
  },
  {
   "cell_type": "markdown",
   "metadata": {},
   "source": [
    "- ReTanh activation function --> yes\n",
    "- rate regularization: 1e-1 --> yes\n",
    "- weight regularization: 1e-5 --> yes\n",
    "- intermodule sparsity: 0.1 --> yes\n",
    "- Hessian free optimization --> yes\n",
    "- birdirectional --> no"
   ]
  },
  {
   "cell_type": "code",
   "execution_count": 42,
   "metadata": {},
   "outputs": [],
   "source": [
    "def hardcore_loss(output, target, model_params):\n",
    "    firing_reg = 1e-1\n",
    "    weight_reg = 1e-5\n",
    "    weight_sum = torch.zeros((1))\n",
    "    for name, param in model_params: \n",
    "        if \"weight\" in name:\n",
    "            weight_sum += torch.sum(param **  2)\n",
    "\n",
    "    loss = torch.sum((output - target)**2) + firing_reg * torch.sum(output ** 2) + weight_reg * weight_sum\n",
    "    return loss"
   ]
  },
  {
   "cell_type": "code",
   "execution_count": 43,
   "metadata": {},
   "outputs": [],
   "source": [
    "def hardcore_loss_weighted(output, target, model_params):\n",
    "    firing_reg = 1e-1\n",
    "    weight_reg = 1e-5\n",
    "    weight_sum = torch.zeros((1))\n",
    "    for name, param in model_params: \n",
    "        if \"weight\" in name:\n",
    "            weight_sum += torch.sum(param **  2)\n",
    "    \n",
    "    # not entirely sure if this line is right\n",
    "    \n",
    "    target_diff_sum = torch.sum((muscle_weight_vec*(output - target))**2)\n",
    "\n",
    "    loss = target_diff_sum + firing_reg * torch.sum(output ** 2) + weight_reg * weight_sum\n",
    "    return loss"
   ]
  },
  {
   "cell_type": "code",
   "execution_count": 44,
   "metadata": {},
   "outputs": [
    {
     "name": "stdout",
     "output_type": "stream",
     "text": [
      "tensor([31404.8457], grad_fn=<AddBackward0>)\n",
      "tensor([26644.8066], grad_fn=<AddBackward0>)\n"
     ]
    }
   ],
   "source": [
    "from torch import nn\n",
    "import torch.nn.utils.prune as prune\n",
    "import torch.nn.functional as F\n",
    "\n",
    "from mrnn import MilliesRNN\n",
    "from hessianfree import HessianFree\n",
    "\n",
    "learning_rate = 0.001\n",
    "hessian = False\n",
    "hardcore = True\n",
    "intermodule_connections_removed = .9\n",
    "\n",
    "\n",
    "model = MilliesRNN(in_dim, hid_dim, out_dim, True)\n",
    "module1 = model.h2o\n",
    "prune.random_unstructured(module1, name=\"weight\", amount=intermodule_connections_removed)\n",
    "module2 = model.thal\n",
    "prune.random_unstructured(module2, name=\"weight\", amount=intermodule_connections_removed)\n",
    "model.train()\n",
    "batches = []\n",
    "shuffed = np.arange(0,401)\n",
    "np.random.shuffle(shuffed)\n",
    "for i in range(5):\n",
    "    idx = shuffed[int((train_input.shape[0]/5)*i):int((train_input.shape[0]/5)*(i+1))]\n",
    "    batches.append(idx)\n",
    "outputs = model(torch.from_numpy(train_input[batches[0]]).to(torch.float32))   \n",
    "loss = hardcore_loss(outputs, torch.from_numpy(train_output[batches[0]]).to(torch.float32), model.named_parameters())\n",
    "print(loss)\n",
    "\n",
    "loss_weighted = hardcore_loss_weighted(outputs, torch.from_numpy(train_output[batches[0]]).to(torch.float32), model.named_parameters())\n",
    "print(loss_weighted)\n"
   ]
  },
  {
   "cell_type": "code",
   "execution_count": 45,
   "metadata": {},
   "outputs": [
    {
     "name": "stdout",
     "output_type": "stream",
     "text": [
      "Epoch [1/20], Step [1/401], Loss: 34066.0508\n",
      "Epoch [1/20], Step [2/401], Loss: 32132.4141\n",
      "Epoch [1/20], Step [3/401], Loss: 30439.5840\n",
      "Epoch [1/20], Step [4/401], Loss: 29781.5547\n",
      "Epoch [1/20], Step [5/401], Loss: 27494.0625\n",
      "Epoch [2/20], Step [1/401], Loss: 28760.1934\n",
      "Epoch [2/20], Step [2/401], Loss: 27720.1758\n",
      "Epoch [2/20], Step [3/401], Loss: 25655.7734\n",
      "Epoch [2/20], Step [4/401], Loss: 26375.1680\n",
      "Epoch [2/20], Step [5/401], Loss: 26167.2188\n",
      "Epoch [3/20], Step [1/401], Loss: 26595.9609\n",
      "Epoch [3/20], Step [2/401], Loss: 25145.6973\n",
      "Epoch [3/20], Step [3/401], Loss: 25652.2969\n",
      "Epoch [3/20], Step [4/401], Loss: 26876.8281\n",
      "Epoch [3/20], Step [5/401], Loss: 26200.1992\n",
      "Epoch [4/20], Step [1/401], Loss: 26423.8125\n",
      "Epoch [4/20], Step [2/401], Loss: 25458.6250\n",
      "Epoch [4/20], Step [3/401], Loss: 25000.0488\n",
      "Epoch [4/20], Step [4/401], Loss: 26829.5898\n",
      "Epoch [4/20], Step [5/401], Loss: 25972.1602\n",
      "Epoch [5/20], Step [1/401], Loss: 25864.1680\n",
      "Epoch [5/20], Step [2/401], Loss: 25567.5781\n",
      "Epoch [5/20], Step [3/401], Loss: 26275.6270\n",
      "Epoch [5/20], Step [4/401], Loss: 25026.0898\n",
      "Epoch [5/20], Step [5/401], Loss: 26544.9844\n",
      "Epoch [6/20], Step [1/401], Loss: 25698.7949\n",
      "Epoch [6/20], Step [2/401], Loss: 26043.5508\n",
      "Epoch [6/20], Step [3/401], Loss: 24865.2656\n",
      "Epoch [6/20], Step [4/401], Loss: 25545.4004\n",
      "Epoch [6/20], Step [5/401], Loss: 26008.4395\n",
      "Epoch [7/20], Step [1/401], Loss: 24790.4727\n",
      "Epoch [7/20], Step [2/401], Loss: 25410.0156\n",
      "Epoch [7/20], Step [3/401], Loss: 25917.1582\n",
      "Epoch [7/20], Step [4/401], Loss: 24589.5039\n",
      "Epoch [7/20], Step [5/401], Loss: 25111.8828\n",
      "Epoch [8/20], Step [1/401], Loss: 23859.8438\n",
      "Epoch [8/20], Step [2/401], Loss: 24183.4570\n",
      "Epoch [8/20], Step [3/401], Loss: 25153.2617\n",
      "Epoch [8/20], Step [4/401], Loss: 22835.6074\n",
      "Epoch [8/20], Step [5/401], Loss: 24586.5508\n",
      "Epoch [9/20], Step [1/401], Loss: 24120.1855\n",
      "Epoch [9/20], Step [2/401], Loss: 23476.9707\n",
      "Epoch [9/20], Step [3/401], Loss: 22681.0000\n",
      "Epoch [9/20], Step [4/401], Loss: 22278.2930\n",
      "Epoch [9/20], Step [5/401], Loss: 21378.4004\n",
      "Epoch [10/20], Step [1/401], Loss: 21912.9043\n",
      "Epoch [10/20], Step [2/401], Loss: 21196.8906\n",
      "Epoch [10/20], Step [3/401], Loss: 21741.9023\n",
      "Epoch [10/20], Step [4/401], Loss: 20636.0312\n",
      "Epoch [10/20], Step [5/401], Loss: 20061.5391\n",
      "Epoch [11/20], Step [1/401], Loss: 19417.1016\n",
      "Epoch [11/20], Step [2/401], Loss: 19176.4492\n",
      "Epoch [11/20], Step [3/401], Loss: 18841.9355\n",
      "Epoch [11/20], Step [4/401], Loss: 17602.9531\n",
      "Epoch [11/20], Step [5/401], Loss: 18024.4648\n",
      "Epoch [12/20], Step [1/401], Loss: 17199.0898\n",
      "Epoch [12/20], Step [2/401], Loss: 17189.3711\n",
      "Epoch [12/20], Step [3/401], Loss: 17301.7773\n",
      "Epoch [12/20], Step [4/401], Loss: 16452.8789\n",
      "Epoch [12/20], Step [5/401], Loss: 17494.4590\n",
      "Epoch [13/20], Step [1/401], Loss: 15519.6035\n",
      "Epoch [13/20], Step [2/401], Loss: 17040.8027\n",
      "Epoch [13/20], Step [3/401], Loss: 17147.4766\n",
      "Epoch [13/20], Step [4/401], Loss: 16295.5635\n",
      "Epoch [13/20], Step [5/401], Loss: 17569.1445\n",
      "Epoch [14/20], Step [1/401], Loss: 16877.4941\n",
      "Epoch [14/20], Step [2/401], Loss: 16839.6797\n",
      "Epoch [14/20], Step [3/401], Loss: 16343.9570\n",
      "Epoch [14/20], Step [4/401], Loss: 17035.1191\n",
      "Epoch [14/20], Step [5/401], Loss: 16112.0400\n",
      "Epoch [15/20], Step [1/401], Loss: 17304.7246\n",
      "Epoch [15/20], Step [2/401], Loss: 15688.9287\n",
      "Epoch [15/20], Step [3/401], Loss: 16705.0938\n",
      "Epoch [15/20], Step [4/401], Loss: 16645.8574\n",
      "Epoch [15/20], Step [5/401], Loss: 16445.6777\n",
      "Epoch [16/20], Step [1/401], Loss: 17186.9980\n",
      "Epoch [16/20], Step [2/401], Loss: 16689.8516\n",
      "Epoch [16/20], Step [3/401], Loss: 16149.8730\n",
      "Epoch [16/20], Step [4/401], Loss: 16506.7949\n",
      "Epoch [16/20], Step [5/401], Loss: 15910.8262\n",
      "Epoch [17/20], Step [1/401], Loss: 16954.0391\n",
      "Epoch [17/20], Step [2/401], Loss: 16591.5391\n",
      "Epoch [17/20], Step [3/401], Loss: 15889.9824\n",
      "Epoch [17/20], Step [4/401], Loss: 15460.7871\n",
      "Epoch [17/20], Step [5/401], Loss: 17313.2227\n",
      "Epoch [18/20], Step [1/401], Loss: 16335.7812\n",
      "Epoch [18/20], Step [2/401], Loss: 16540.0840\n",
      "Epoch [18/20], Step [3/401], Loss: 16503.8633\n",
      "Epoch [18/20], Step [4/401], Loss: 16185.6846\n",
      "Epoch [18/20], Step [5/401], Loss: 16321.5068\n",
      "Epoch [19/20], Step [1/401], Loss: 16410.2910\n",
      "Epoch [19/20], Step [2/401], Loss: 15657.1787\n",
      "Epoch [19/20], Step [3/401], Loss: 16330.3945\n",
      "Epoch [19/20], Step [4/401], Loss: 15784.7607\n",
      "Epoch [19/20], Step [5/401], Loss: 17287.4512\n",
      "Epoch [20/20], Step [1/401], Loss: 16552.7148\n",
      "Epoch [20/20], Step [2/401], Loss: 15549.1807\n",
      "Epoch [20/20], Step [3/401], Loss: 16002.1357\n",
      "Epoch [20/20], Step [4/401], Loss: 15791.4873\n",
      "Epoch [20/20], Step [5/401], Loss: 16874.1191\n"
     ]
    }
   ],
   "source": [
    "from torch import nn\n",
    "import torch.nn.utils.prune as prune\n",
    "import torch.nn.functional as F\n",
    "\n",
    "from mrnn import MilliesRNN\n",
    "from hessianfree import HessianFree\n",
    "\n",
    "learning_rate = 0.001\n",
    "hessian = False\n",
    "hardcore = True\n",
    "intermodule_connections_removed = .9\n",
    "\n",
    "\n",
    "model = MilliesRNN(in_dim, hid_dim, out_dim, True)\n",
    "module1 = model.h2o\n",
    "prune.random_unstructured(module1, name=\"weight\", amount=intermodule_connections_removed)\n",
    "module2 = model.thal\n",
    "prune.random_unstructured(module2, name=\"weight\", amount=intermodule_connections_removed)\n",
    "\n",
    "if hardcore:\n",
    "    criterion1 = hardcore_loss\n",
    "    criterion2 = hardcore_loss_weighted\n",
    "else:\n",
    "    criterion1 = nn.MSELoss() \n",
    "\n",
    "if hessian:\n",
    "    optimizer = HessianFree(model.parameters(), use_gnm=True, verbose=True)\n",
    "else:\n",
    "    optimizer = torch.optim.Adam(model.parameters(), lr=learning_rate)\n",
    "\n",
    "num_epochs = 20\n",
    "print_interval = 100\n",
    "loss_error = []\n",
    "\n",
    "preds = np.zeros((int(batch_size * .8), trial_len, out_dim))\n",
    "\n",
    "model.train()\n",
    "for epoch in range(num_epochs):\n",
    "    batches = []\n",
    "    shuffed = np.arange(0,401)\n",
    "    np.random.shuffle(shuffed)\n",
    "    for i in range(5):\n",
    "        idx = shuffed[int((train_input.shape[0]/5)*i):int((train_input.shape[0]/5)*(i+1))]\n",
    "        \n",
    "        batches.append(idx)\n",
    "    \n",
    "    for j, batch in enumerate(batches):\n",
    "        \n",
    "        optimizer.zero_grad()\n",
    "\n",
    "        outputs = model(torch.from_numpy(train_input[batch]).to(torch.float32))   \n",
    "\n",
    "        if hardcore:\n",
    "            # if epoch < num_epochs/2:\n",
    "                loss = criterion1(outputs, torch.from_numpy(train_output[batch]).to(torch.float32), model.named_parameters())\n",
    "            # else:\n",
    "                # loss = criterion2(outputs, torch.from_numpy(train_output[batch]).to(torch.float32), model.named_parameters())\n",
    "        else:\n",
    "            loss = criterion1(outputs, torch.from_numpy(train_output[batch]).to(torch.float32))\n",
    "        \n",
    "            \n",
    "        nn.utils.clip_grad_norm_(model.parameters(), 1)\n",
    "\n",
    "        def closure():\n",
    "            gen_output = model(torch.from_numpy(train_input[batch]).to(torch.float32))\n",
    "            loss = criterion1(gen_output, torch.from_numpy(train_output[batch]).to(torch.float32), model.named_parameters())\n",
    "            loss.backward(create_graph=True)\n",
    "            return loss, gen_output\n",
    "        \n",
    "        if hessian:\n",
    "            optimizer.step(closure, M_inv=None)\n",
    "        else: # gradient descent\n",
    "            loss.backward()\n",
    "            optimizer.step()\n",
    "\n",
    "        loss_error.append(loss.item())\n",
    "        # if i == 0 or (i + 1) % print_interval == 0:\n",
    "        print(\n",
    "            f\"Epoch [{epoch + 1}/{num_epochs}], \"\n",
    "            f\"Step [{j + 1}/{len(train_output)}], \"\n",
    "            f\"Loss: {loss.item():.4f}\"\n",
    "        )\n",
    "        \n",
    "\n"
   ]
  },
  {
   "cell_type": "code",
   "execution_count": 46,
   "metadata": {},
   "outputs": [
    {
     "data": {
      "text/plain": [
       "Text(0, 0.5, 'loss')"
      ]
     },
     "execution_count": 46,
     "metadata": {},
     "output_type": "execute_result"
    },
    {
     "data": {
      "image/png": "[encoded data removed]",
      "text/plain": [
       "<Figure size 640x480 with 1 Axes>"
      ]
     },
     "metadata": {},
     "output_type": "display_data"
    }
   ],
   "source": [
    "import matplotlib.pyplot as plt\n",
    "\n",
    "plt.plot(loss_error)\n",
    "plt.xlabel(\"steps\")\n",
    "plt.ylabel(\"loss\")"
   ]
  },
  {
   "cell_type": "code",
   "execution_count": 47,
   "metadata": {},
   "outputs": [
    {
     "name": "stdout",
     "output_type": "stream",
     "text": [
      "Average test loss (hardcore): tensor([204.7374])\n",
      "Average test loss (weighted): tensor([195.2789])\n"
     ]
    }
   ],
   "source": [
    "# gets test loss using both criterion\n",
    "\n",
    "preds = torch.empty(batch_size, trial_len, out_dim)\n",
    "\n",
    "num_correct = 0\n",
    "num_samples = len(test_input)\n",
    "\n",
    "model.eval()\n",
    "loss = 0\n",
    "with torch.no_grad():\n",
    "    out = model(torch.from_numpy(test_input).to(torch.float32))\n",
    "    loss1 = criterion1(out, torch.from_numpy(test_output).to(torch.float32), model.named_parameters())\n",
    "    loss2 = criterion2(out, torch.from_numpy(test_output).to(torch.float32), model.named_parameters())\n",
    "\n",
    "print(f\"Average test loss (hardcore): {loss1 / num_samples}\")\n",
    "print(f\"Average test loss (weighted): {loss2 / num_samples}\")"
   ]
  },
  {
   "cell_type": "code",
   "execution_count": 48,
   "metadata": {},
   "outputs": [],
   "source": [
    "import pickle \n",
    "\n",
    "with torch.no_grad():\n",
    "    out = model(torch.from_numpy(new_visual_data).to(torch.float32))\n",
    "\n",
    "with open('hardcore_only_loss_model_outputs.pickle', 'wb') as handle:\n",
    "    pickle.dump(out, handle, protocol=pickle.HIGHEST_PROTOCOL)\n"
   ]
  },
  {
   "cell_type": "code",
   "execution_count": 57,
   "metadata": {},
   "outputs": [
    {
     "ename": "ValueError",
     "evalue": "cannot reshape array of size 100 into shape (3)",
     "output_type": "error",
     "traceback": [
      "\u001b[0;31m---------------------------------------------------------------------------\u001b[0m",
      "\u001b[0;31mValueError\u001b[0m                                Traceback (most recent call last)",
      "Cell \u001b[0;32mIn[57], line 2\u001b[0m\n\u001b[1;32m      1\u001b[0m n\u001b[38;5;241m=\u001b[39m\u001b[38;5;241m3\u001b[39m\n\u001b[0;32m----> 2\u001b[0m plt\u001b[38;5;241m.\u001b[39mplot(np\u001b[38;5;241m.\u001b[39maverage(\u001b[43mnp\u001b[49m\u001b[38;5;241;43m.\u001b[39;49m\u001b[43marray\u001b[49m\u001b[43m(\u001b[49m\u001b[43mloss_error\u001b[49m\u001b[43m)\u001b[49m\u001b[38;5;241;43m.\u001b[39;49m\u001b[43mreshape\u001b[49m\u001b[43m(\u001b[49m\u001b[38;5;241;43m-\u001b[39;49m\u001b[38;5;241;43m1\u001b[39;49m\u001b[43m,\u001b[49m\u001b[43m \u001b[49m\u001b[43mn\u001b[49m\u001b[43m)\u001b[49m, axis\u001b[38;5;241m=\u001b[39m\u001b[38;5;241m1\u001b[39m))\n\u001b[1;32m      3\u001b[0m plt\u001b[38;5;241m.\u001b[39mxlabel(\u001b[38;5;124m\"\u001b[39m\u001b[38;5;124msteps\u001b[39m\u001b[38;5;124m\"\u001b[39m)\n\u001b[1;32m      4\u001b[0m plt\u001b[38;5;241m.\u001b[39mylabel(\u001b[38;5;124m\"\u001b[39m\u001b[38;5;124mmse loss\u001b[39m\u001b[38;5;124m\"\u001b[39m)\n",
      "\u001b[0;31mValueError\u001b[0m: cannot reshape array of size 100 into shape (3)"
     ]
    }
   ],
   "source": [
    "n=3\n",
    "plt.plot(np.average(np.array(loss_error).reshape(-1, n), axis=1))\n",
    "plt.xlabel(\"steps\")\n",
    "plt.ylabel(\"mse loss\")"
   ]
  },
  {
   "cell_type": "code",
   "execution_count": null,
   "metadata": {},
   "outputs": [],
   "source": [
    "    \"\"\"for i, (input, output) in enumerate(train_dataset): # 80% of 502 different examples\n",
    "\n",
    "        gen_output, hn = model(input)        \n",
    "\n",
    "        loss = criterion(gen_output, output)\n",
    "        nn.utils.clip_grad_norm_(model.parameters(), 1)\n",
    "        def closure():\n",
    "            gen_output, _ = model(input)\n",
    "            loss = criterion(gen_output, output)\n",
    "            loss.backward(create_graph=True)\n",
    "            return loss, gen_output\n",
    "        optimizer.step(closure, M_inv=None)\n",
    "        # add regularization loss with rate and weights here??\n",
    "        # rate by taking L2 with matrix of zeroes\n",
    "        loss_error.append(loss.item())\n",
    "        \n",
    "        if i == 0 or (i + 1) % print_interval == 0:\n",
    "            print(\n",
    "                f\"Epoch [{epoch + 1}/{num_epochs}], \"\n",
    "                f\"Step [{i + 1}/{len(train_dataset)}], \"\n",
    "                f\"Loss: {loss.item():.4f}\"\n",
    "            )\"\"\""
   ]
  },
  {
   "cell_type": "code",
   "execution_count": null,
   "metadata": {},
   "outputs": [],
   "source": [
    "model2 = MilliesRNN(in_dim, hid_dim, out_dim)\n",
    "\n",
    "module = model2."
   ]
  }
 ],
 "metadata": {
  "kernelspec": {
   "display_name": "newallensdk",
   "language": "python",
   "name": "python3"
  },
  "language_info": {
   "codemirror_mode": {
    "name": "ipython",
    "version": 3
   },
   "file_extension": ".py",
   "mimetype": "text/x-python",
   "name": "python",
   "nbconvert_exporter": "python",
   "pygments_lexer": "ipython3",
   "version": "3.12.3"
  }
 },
 "nbformat": 4,
 "nbformat_minor": 2
}
